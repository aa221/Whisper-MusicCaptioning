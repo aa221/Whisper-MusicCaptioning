{
  "nbformat": 4,
  "nbformat_minor": 0,
  "metadata": {
    "colab": {
      "provenance": [],
      "machine_shape": "hm"
    },
    "kernelspec": {
      "name": "python3",
      "display_name": "Python 3"
    },
    "language_info": {
      "name": "python"
    }
  },
  "cells": [
    {
      "cell_type": "markdown",
      "source": [
        "## Analyzing the breakdown of subjective vs objective song analysis"
      ],
      "metadata": {
        "id": "FAANIGlmOTSN"
      }
    },
    {
      "cell_type": "code",
      "source": [
        "\n",
        "from openai import OpenAI\n",
        "\n",
        "client = OpenAI(api_key='ENTER API KEY')\n",
        "\n",
        "# Set up your API key\n",
        "\n",
        "# Chat completion function\n",
        "def chat_with_gpt(reference_caption):\n",
        "    try:\n",
        "        response = client.chat.completions.create(\n",
        "            model=\"gpt-4o\",\n",
        "            messages=[\n",
        "                {\"role\": \"system\", \"content\":\n",
        "                    \"You are an expert in music captioning. Your task is to analyze a given caption and categorize its words into two distinct lists:\\n\\n\"\n",
        "                    \"1. **Objective Words**: Words that describe measurable, factual elements such as:\\n\"\n",
        "                    \"   - Instruments used (e.g., guitar, piano, drums)\\n\"\n",
        "                    \"   - Genre (e.g., jazz, rock, classical)\\n\"\n",
        "                    \"   - Tempo (e.g., fast, slow, upbeat)\\n\"\n",
        "                    \"   - Gender of the artist (e.g., male, female, non-binary)\\n\"\n",
        "                    \"   - Audio quality (e.g., clear, distorted, lo-fi)\\n\\n\"\n",
        "                    \"2. **Subjective Words**: Words that describe opinions, emotions, or mood, such as:\\n\"\n",
        "                    \"   - Emotional tone (e.g., sad, joyful, melancholic)\\n\"\n",
        "                    \"   - Descriptive adjectives (e.g., haunting, energetic, dreamy)\\n\\n\"\n",
        "                    \"Please strictly follow this output format:\\n\"\n",
        "                    \"**Output Format:** `[[list of objective words], [list of subjective words]]`\\n\"\n",
        "                    \"- The response must be a valid Python list containing two sublists.\\n\"\n",
        "                    \"- Do not include explanations or extra text outside the list.\"\n",
        "                },\n",
        "                {\"role\": \"user\", \"content\": f\"Caption: {reference_caption}\\n\\nPlease extract and return the lists accordingly.\"}\n",
        "            ]\n",
        "        )\n",
        "        return response.choices[0].message.content.strip()\n",
        "    except Exception as e:\n",
        "        print(f\"An error occurred: {e}\")\n",
        "        return None\n",
        "\n",
        "\n"
      ],
      "metadata": {
        "id": "Dp8m-IfSOnWi"
      },
      "execution_count": null,
      "outputs": []
    },
    {
      "cell_type": "code",
      "source": [
        "import pandas as pd\n"
      ],
      "metadata": {
        "id": "HpNupzxbPlpn"
      },
      "execution_count": null,
      "outputs": []
    },
    {
      "cell_type": "code",
      "source": [
        "the_captioning_table = pd.read_csv(\"/content/musiccaps-public.csv\")"
      ],
      "metadata": {
        "id": "CBTVzgnMPidH"
      },
      "execution_count": null,
      "outputs": []
    },
    {
      "cell_type": "code",
      "source": [
        "the_captioning_table"
      ],
      "metadata": {
        "colab": {
          "base_uri": "https://localhost:8080/",
          "height": 423
        },
        "id": "7K7ghRHTPnAd",
        "outputId": "5a8f5083-3a3c-4447-a9b5-593eef3207f9"
      },
      "execution_count": null,
      "outputs": [
        {
          "output_type": "execute_result",
          "data": {
            "text/plain": [
              "             ytid  start_s  end_s  \\\n",
              "0     -0Gj8-vB1q4       30     40   \n",
              "1     -0SdAVK79lg       30     40   \n",
              "2     -0vPFx-wRRI       30     40   \n",
              "3     -0xzrMun0Rs       30     40   \n",
              "4     -1LrH01Ei1w       30     40   \n",
              "...           ...      ...    ...   \n",
              "5516  zw5dkiklbhE       15     25   \n",
              "5517  zwfo7wnXdjs       30     40   \n",
              "5518  zx_vcwOsDO4       50     60   \n",
              "5519  zyXa2tdBTGc       30     40   \n",
              "5520  zzNdwF40ID8       70     80   \n",
              "\n",
              "                               audioset_positive_labels  \\\n",
              "0                          /m/0140xf,/m/02cjck,/m/04rlf   \n",
              "1     /m/0155w,/m/01lyv,/m/0342h,/m/042v_gx,/m/04rlf...   \n",
              "2                                   /m/025_jnm,/m/04rlf   \n",
              "3                                    /m/01g90h,/m/04rlf   \n",
              "4                                   /m/02p0sh1,/m/04rlf   \n",
              "...                                                 ...   \n",
              "5516                                /m/01sm1g,/m/0l14md   \n",
              "5517                      /m/02p0sh1,/m/04rlf,/m/06j64v   \n",
              "5518  /m/01glhc,/m/02sgy,/m/0342h,/m/03lty,/m/04rlf,...   \n",
              "5519                                /m/04rlf,/t/dd00034   \n",
              "5520                                  /m/04rlf,/m/0790c   \n",
              "\n",
              "                                            aspect_list  \\\n",
              "0     ['low quality', 'sustained strings melody', 's...   \n",
              "1     ['guitar song', 'piano backing', 'simple percu...   \n",
              "2     ['amateur recording', 'finger snipping', 'male...   \n",
              "3     ['backing track', 'jazzy', 'digital drums', 'p...   \n",
              "4     ['rubab instrument', 'repetitive melody on dif...   \n",
              "...                                                 ...   \n",
              "5516  ['amateur recording', 'percussion', 'wooden bo...   \n",
              "5517  ['instrumental music', 'arabic music', 'genera...   \n",
              "5518  ['instrumental', 'no voice', 'electric guitar'...   \n",
              "5519  ['instrumental music', 'gospel music', 'strong...   \n",
              "5520  ['glitch', 'noise', 'instrumental', 'electroni...   \n",
              "\n",
              "                                                caption  author_id  \\\n",
              "0     The low quality recording features a ballad so...          4   \n",
              "1     This song features an electric guitar as the m...          0   \n",
              "2     a male voice is singing a melody with changing...          6   \n",
              "3     This song contains digital drums playing a sim...          6   \n",
              "4     This song features a rubber instrument being p...          0   \n",
              "...                                                 ...        ...   \n",
              "5516  This audio contains someone playing a wooden b...          6   \n",
              "5517  The song is an instrumental. The song is mediu...          1   \n",
              "5518  The rock music is purely instrumental and feat...          2   \n",
              "5519  The song is an instrumental. The song is slow ...          1   \n",
              "5520  This is a glitch music piece. There is a synth...          9   \n",
              "\n",
              "      is_balanced_subset  is_audioset_eval  \n",
              "0                  False              True  \n",
              "1                  False             False  \n",
              "2                  False              True  \n",
              "3                  False              True  \n",
              "4                  False             False  \n",
              "...                  ...               ...  \n",
              "5516               False             False  \n",
              "5517                True              True  \n",
              "5518                True              True  \n",
              "5519               False             False  \n",
              "5520                True              True  \n",
              "\n",
              "[5521 rows x 9 columns]"
            ],
            "text/html": [
              "\n",
              "  <div id=\"df-82655f21-9632-40a0-ab34-0e1e7d3c7e5a\" class=\"colab-df-container\">\n",
              "    <div>\n",
              "<style scoped>\n",
              "    .dataframe tbody tr th:only-of-type {\n",
              "        vertical-align: middle;\n",
              "    }\n",
              "\n",
              "    .dataframe tbody tr th {\n",
              "        vertical-align: top;\n",
              "    }\n",
              "\n",
              "    .dataframe thead th {\n",
              "        text-align: right;\n",
              "    }\n",
              "</style>\n",
              "<table border=\"1\" class=\"dataframe\">\n",
              "  <thead>\n",
              "    <tr style=\"text-align: right;\">\n",
              "      <th></th>\n",
              "      <th>ytid</th>\n",
              "      <th>start_s</th>\n",
              "      <th>end_s</th>\n",
              "      <th>audioset_positive_labels</th>\n",
              "      <th>aspect_list</th>\n",
              "      <th>caption</th>\n",
              "      <th>author_id</th>\n",
              "      <th>is_balanced_subset</th>\n",
              "      <th>is_audioset_eval</th>\n",
              "    </tr>\n",
              "  </thead>\n",
              "  <tbody>\n",
              "    <tr>\n",
              "      <th>0</th>\n",
              "      <td>-0Gj8-vB1q4</td>\n",
              "      <td>30</td>\n",
              "      <td>40</td>\n",
              "      <td>/m/0140xf,/m/02cjck,/m/04rlf</td>\n",
              "      <td>['low quality', 'sustained strings melody', 's...</td>\n",
              "      <td>The low quality recording features a ballad so...</td>\n",
              "      <td>4</td>\n",
              "      <td>False</td>\n",
              "      <td>True</td>\n",
              "    </tr>\n",
              "    <tr>\n",
              "      <th>1</th>\n",
              "      <td>-0SdAVK79lg</td>\n",
              "      <td>30</td>\n",
              "      <td>40</td>\n",
              "      <td>/m/0155w,/m/01lyv,/m/0342h,/m/042v_gx,/m/04rlf...</td>\n",
              "      <td>['guitar song', 'piano backing', 'simple percu...</td>\n",
              "      <td>This song features an electric guitar as the m...</td>\n",
              "      <td>0</td>\n",
              "      <td>False</td>\n",
              "      <td>False</td>\n",
              "    </tr>\n",
              "    <tr>\n",
              "      <th>2</th>\n",
              "      <td>-0vPFx-wRRI</td>\n",
              "      <td>30</td>\n",
              "      <td>40</td>\n",
              "      <td>/m/025_jnm,/m/04rlf</td>\n",
              "      <td>['amateur recording', 'finger snipping', 'male...</td>\n",
              "      <td>a male voice is singing a melody with changing...</td>\n",
              "      <td>6</td>\n",
              "      <td>False</td>\n",
              "      <td>True</td>\n",
              "    </tr>\n",
              "    <tr>\n",
              "      <th>3</th>\n",
              "      <td>-0xzrMun0Rs</td>\n",
              "      <td>30</td>\n",
              "      <td>40</td>\n",
              "      <td>/m/01g90h,/m/04rlf</td>\n",
              "      <td>['backing track', 'jazzy', 'digital drums', 'p...</td>\n",
              "      <td>This song contains digital drums playing a sim...</td>\n",
              "      <td>6</td>\n",
              "      <td>False</td>\n",
              "      <td>True</td>\n",
              "    </tr>\n",
              "    <tr>\n",
              "      <th>4</th>\n",
              "      <td>-1LrH01Ei1w</td>\n",
              "      <td>30</td>\n",
              "      <td>40</td>\n",
              "      <td>/m/02p0sh1,/m/04rlf</td>\n",
              "      <td>['rubab instrument', 'repetitive melody on dif...</td>\n",
              "      <td>This song features a rubber instrument being p...</td>\n",
              "      <td>0</td>\n",
              "      <td>False</td>\n",
              "      <td>False</td>\n",
              "    </tr>\n",
              "    <tr>\n",
              "      <th>...</th>\n",
              "      <td>...</td>\n",
              "      <td>...</td>\n",
              "      <td>...</td>\n",
              "      <td>...</td>\n",
              "      <td>...</td>\n",
              "      <td>...</td>\n",
              "      <td>...</td>\n",
              "      <td>...</td>\n",
              "      <td>...</td>\n",
              "    </tr>\n",
              "    <tr>\n",
              "      <th>5516</th>\n",
              "      <td>zw5dkiklbhE</td>\n",
              "      <td>15</td>\n",
              "      <td>25</td>\n",
              "      <td>/m/01sm1g,/m/0l14md</td>\n",
              "      <td>['amateur recording', 'percussion', 'wooden bo...</td>\n",
              "      <td>This audio contains someone playing a wooden b...</td>\n",
              "      <td>6</td>\n",
              "      <td>False</td>\n",
              "      <td>False</td>\n",
              "    </tr>\n",
              "    <tr>\n",
              "      <th>5517</th>\n",
              "      <td>zwfo7wnXdjs</td>\n",
              "      <td>30</td>\n",
              "      <td>40</td>\n",
              "      <td>/m/02p0sh1,/m/04rlf,/m/06j64v</td>\n",
              "      <td>['instrumental music', 'arabic music', 'genera...</td>\n",
              "      <td>The song is an instrumental. The song is mediu...</td>\n",
              "      <td>1</td>\n",
              "      <td>True</td>\n",
              "      <td>True</td>\n",
              "    </tr>\n",
              "    <tr>\n",
              "      <th>5518</th>\n",
              "      <td>zx_vcwOsDO4</td>\n",
              "      <td>50</td>\n",
              "      <td>60</td>\n",
              "      <td>/m/01glhc,/m/02sgy,/m/0342h,/m/03lty,/m/04rlf,...</td>\n",
              "      <td>['instrumental', 'no voice', 'electric guitar'...</td>\n",
              "      <td>The rock music is purely instrumental and feat...</td>\n",
              "      <td>2</td>\n",
              "      <td>True</td>\n",
              "      <td>True</td>\n",
              "    </tr>\n",
              "    <tr>\n",
              "      <th>5519</th>\n",
              "      <td>zyXa2tdBTGc</td>\n",
              "      <td>30</td>\n",
              "      <td>40</td>\n",
              "      <td>/m/04rlf,/t/dd00034</td>\n",
              "      <td>['instrumental music', 'gospel music', 'strong...</td>\n",
              "      <td>The song is an instrumental. The song is slow ...</td>\n",
              "      <td>1</td>\n",
              "      <td>False</td>\n",
              "      <td>False</td>\n",
              "    </tr>\n",
              "    <tr>\n",
              "      <th>5520</th>\n",
              "      <td>zzNdwF40ID8</td>\n",
              "      <td>70</td>\n",
              "      <td>80</td>\n",
              "      <td>/m/04rlf,/m/0790c</td>\n",
              "      <td>['glitch', 'noise', 'instrumental', 'electroni...</td>\n",
              "      <td>This is a glitch music piece. There is a synth...</td>\n",
              "      <td>9</td>\n",
              "      <td>True</td>\n",
              "      <td>True</td>\n",
              "    </tr>\n",
              "  </tbody>\n",
              "</table>\n",
              "<p>5521 rows × 9 columns</p>\n",
              "</div>\n",
              "    <div class=\"colab-df-buttons\">\n",
              "\n",
              "  <div class=\"colab-df-container\">\n",
              "    <button class=\"colab-df-convert\" onclick=\"convertToInteractive('df-82655f21-9632-40a0-ab34-0e1e7d3c7e5a')\"\n",
              "            title=\"Convert this dataframe to an interactive table.\"\n",
              "            style=\"display:none;\">\n",
              "\n",
              "  <svg xmlns=\"http://www.w3.org/2000/svg\" height=\"24px\" viewBox=\"0 -960 960 960\">\n",
              "    <path d=\"M120-120v-720h720v720H120Zm60-500h600v-160H180v160Zm220 220h160v-160H400v160Zm0 220h160v-160H400v160ZM180-400h160v-160H180v160Zm440 0h160v-160H620v160ZM180-180h160v-160H180v160Zm440 0h160v-160H620v160Z\"/>\n",
              "  </svg>\n",
              "    </button>\n",
              "\n",
              "  <style>\n",
              "    .colab-df-container {\n",
              "      display:flex;\n",
              "      gap: 12px;\n",
              "    }\n",
              "\n",
              "    .colab-df-convert {\n",
              "      background-color: #E8F0FE;\n",
              "      border: none;\n",
              "      border-radius: 50%;\n",
              "      cursor: pointer;\n",
              "      display: none;\n",
              "      fill: #1967D2;\n",
              "      height: 32px;\n",
              "      padding: 0 0 0 0;\n",
              "      width: 32px;\n",
              "    }\n",
              "\n",
              "    .colab-df-convert:hover {\n",
              "      background-color: #E2EBFA;\n",
              "      box-shadow: 0px 1px 2px rgba(60, 64, 67, 0.3), 0px 1px 3px 1px rgba(60, 64, 67, 0.15);\n",
              "      fill: #174EA6;\n",
              "    }\n",
              "\n",
              "    .colab-df-buttons div {\n",
              "      margin-bottom: 4px;\n",
              "    }\n",
              "\n",
              "    [theme=dark] .colab-df-convert {\n",
              "      background-color: #3B4455;\n",
              "      fill: #D2E3FC;\n",
              "    }\n",
              "\n",
              "    [theme=dark] .colab-df-convert:hover {\n",
              "      background-color: #434B5C;\n",
              "      box-shadow: 0px 1px 3px 1px rgba(0, 0, 0, 0.15);\n",
              "      filter: drop-shadow(0px 1px 2px rgba(0, 0, 0, 0.3));\n",
              "      fill: #FFFFFF;\n",
              "    }\n",
              "  </style>\n",
              "\n",
              "    <script>\n",
              "      const buttonEl =\n",
              "        document.querySelector('#df-82655f21-9632-40a0-ab34-0e1e7d3c7e5a button.colab-df-convert');\n",
              "      buttonEl.style.display =\n",
              "        google.colab.kernel.accessAllowed ? 'block' : 'none';\n",
              "\n",
              "      async function convertToInteractive(key) {\n",
              "        const element = document.querySelector('#df-82655f21-9632-40a0-ab34-0e1e7d3c7e5a');\n",
              "        const dataTable =\n",
              "          await google.colab.kernel.invokeFunction('convertToInteractive',\n",
              "                                                    [key], {});\n",
              "        if (!dataTable) return;\n",
              "\n",
              "        const docLinkHtml = 'Like what you see? Visit the ' +\n",
              "          '<a target=\"_blank\" href=https://colab.research.google.com/notebooks/data_table.ipynb>data table notebook</a>'\n",
              "          + ' to learn more about interactive tables.';\n",
              "        element.innerHTML = '';\n",
              "        dataTable['output_type'] = 'display_data';\n",
              "        await google.colab.output.renderOutput(dataTable, element);\n",
              "        const docLink = document.createElement('div');\n",
              "        docLink.innerHTML = docLinkHtml;\n",
              "        element.appendChild(docLink);\n",
              "      }\n",
              "    </script>\n",
              "  </div>\n",
              "\n",
              "\n",
              "<div id=\"df-70919bb9-2f5c-4987-b768-9f5cdab60089\">\n",
              "  <button class=\"colab-df-quickchart\" onclick=\"quickchart('df-70919bb9-2f5c-4987-b768-9f5cdab60089')\"\n",
              "            title=\"Suggest charts\"\n",
              "            style=\"display:none;\">\n",
              "\n",
              "<svg xmlns=\"http://www.w3.org/2000/svg\" height=\"24px\"viewBox=\"0 0 24 24\"\n",
              "     width=\"24px\">\n",
              "    <g>\n",
              "        <path d=\"M19 3H5c-1.1 0-2 .9-2 2v14c0 1.1.9 2 2 2h14c1.1 0 2-.9 2-2V5c0-1.1-.9-2-2-2zM9 17H7v-7h2v7zm4 0h-2V7h2v10zm4 0h-2v-4h2v4z\"/>\n",
              "    </g>\n",
              "</svg>\n",
              "  </button>\n",
              "\n",
              "<style>\n",
              "  .colab-df-quickchart {\n",
              "      --bg-color: #E8F0FE;\n",
              "      --fill-color: #1967D2;\n",
              "      --hover-bg-color: #E2EBFA;\n",
              "      --hover-fill-color: #174EA6;\n",
              "      --disabled-fill-color: #AAA;\n",
              "      --disabled-bg-color: #DDD;\n",
              "  }\n",
              "\n",
              "  [theme=dark] .colab-df-quickchart {\n",
              "      --bg-color: #3B4455;\n",
              "      --fill-color: #D2E3FC;\n",
              "      --hover-bg-color: #434B5C;\n",
              "      --hover-fill-color: #FFFFFF;\n",
              "      --disabled-bg-color: #3B4455;\n",
              "      --disabled-fill-color: #666;\n",
              "  }\n",
              "\n",
              "  .colab-df-quickchart {\n",
              "    background-color: var(--bg-color);\n",
              "    border: none;\n",
              "    border-radius: 50%;\n",
              "    cursor: pointer;\n",
              "    display: none;\n",
              "    fill: var(--fill-color);\n",
              "    height: 32px;\n",
              "    padding: 0;\n",
              "    width: 32px;\n",
              "  }\n",
              "\n",
              "  .colab-df-quickchart:hover {\n",
              "    background-color: var(--hover-bg-color);\n",
              "    box-shadow: 0 1px 2px rgba(60, 64, 67, 0.3), 0 1px 3px 1px rgba(60, 64, 67, 0.15);\n",
              "    fill: var(--button-hover-fill-color);\n",
              "  }\n",
              "\n",
              "  .colab-df-quickchart-complete:disabled,\n",
              "  .colab-df-quickchart-complete:disabled:hover {\n",
              "    background-color: var(--disabled-bg-color);\n",
              "    fill: var(--disabled-fill-color);\n",
              "    box-shadow: none;\n",
              "  }\n",
              "\n",
              "  .colab-df-spinner {\n",
              "    border: 2px solid var(--fill-color);\n",
              "    border-color: transparent;\n",
              "    border-bottom-color: var(--fill-color);\n",
              "    animation:\n",
              "      spin 1s steps(1) infinite;\n",
              "  }\n",
              "\n",
              "  @keyframes spin {\n",
              "    0% {\n",
              "      border-color: transparent;\n",
              "      border-bottom-color: var(--fill-color);\n",
              "      border-left-color: var(--fill-color);\n",
              "    }\n",
              "    20% {\n",
              "      border-color: transparent;\n",
              "      border-left-color: var(--fill-color);\n",
              "      border-top-color: var(--fill-color);\n",
              "    }\n",
              "    30% {\n",
              "      border-color: transparent;\n",
              "      border-left-color: var(--fill-color);\n",
              "      border-top-color: var(--fill-color);\n",
              "      border-right-color: var(--fill-color);\n",
              "    }\n",
              "    40% {\n",
              "      border-color: transparent;\n",
              "      border-right-color: var(--fill-color);\n",
              "      border-top-color: var(--fill-color);\n",
              "    }\n",
              "    60% {\n",
              "      border-color: transparent;\n",
              "      border-right-color: var(--fill-color);\n",
              "    }\n",
              "    80% {\n",
              "      border-color: transparent;\n",
              "      border-right-color: var(--fill-color);\n",
              "      border-bottom-color: var(--fill-color);\n",
              "    }\n",
              "    90% {\n",
              "      border-color: transparent;\n",
              "      border-bottom-color: var(--fill-color);\n",
              "    }\n",
              "  }\n",
              "</style>\n",
              "\n",
              "  <script>\n",
              "    async function quickchart(key) {\n",
              "      const quickchartButtonEl =\n",
              "        document.querySelector('#' + key + ' button');\n",
              "      quickchartButtonEl.disabled = true;  // To prevent multiple clicks.\n",
              "      quickchartButtonEl.classList.add('colab-df-spinner');\n",
              "      try {\n",
              "        const charts = await google.colab.kernel.invokeFunction(\n",
              "            'suggestCharts', [key], {});\n",
              "      } catch (error) {\n",
              "        console.error('Error during call to suggestCharts:', error);\n",
              "      }\n",
              "      quickchartButtonEl.classList.remove('colab-df-spinner');\n",
              "      quickchartButtonEl.classList.add('colab-df-quickchart-complete');\n",
              "    }\n",
              "    (() => {\n",
              "      let quickchartButtonEl =\n",
              "        document.querySelector('#df-70919bb9-2f5c-4987-b768-9f5cdab60089 button');\n",
              "      quickchartButtonEl.style.display =\n",
              "        google.colab.kernel.accessAllowed ? 'block' : 'none';\n",
              "    })();\n",
              "  </script>\n",
              "</div>\n",
              "\n",
              "  <div id=\"id_a3f6451e-ffef-4fb9-ba94-6c7d0feeafbd\">\n",
              "    <style>\n",
              "      .colab-df-generate {\n",
              "        background-color: #E8F0FE;\n",
              "        border: none;\n",
              "        border-radius: 50%;\n",
              "        cursor: pointer;\n",
              "        display: none;\n",
              "        fill: #1967D2;\n",
              "        height: 32px;\n",
              "        padding: 0 0 0 0;\n",
              "        width: 32px;\n",
              "      }\n",
              "\n",
              "      .colab-df-generate:hover {\n",
              "        background-color: #E2EBFA;\n",
              "        box-shadow: 0px 1px 2px rgba(60, 64, 67, 0.3), 0px 1px 3px 1px rgba(60, 64, 67, 0.15);\n",
              "        fill: #174EA6;\n",
              "      }\n",
              "\n",
              "      [theme=dark] .colab-df-generate {\n",
              "        background-color: #3B4455;\n",
              "        fill: #D2E3FC;\n",
              "      }\n",
              "\n",
              "      [theme=dark] .colab-df-generate:hover {\n",
              "        background-color: #434B5C;\n",
              "        box-shadow: 0px 1px 3px 1px rgba(0, 0, 0, 0.15);\n",
              "        filter: drop-shadow(0px 1px 2px rgba(0, 0, 0, 0.3));\n",
              "        fill: #FFFFFF;\n",
              "      }\n",
              "    </style>\n",
              "    <button class=\"colab-df-generate\" onclick=\"generateWithVariable('the_captioning_table')\"\n",
              "            title=\"Generate code using this dataframe.\"\n",
              "            style=\"display:none;\">\n",
              "\n",
              "  <svg xmlns=\"http://www.w3.org/2000/svg\" height=\"24px\"viewBox=\"0 0 24 24\"\n",
              "       width=\"24px\">\n",
              "    <path d=\"M7,19H8.4L18.45,9,17,7.55,7,17.6ZM5,21V16.75L18.45,3.32a2,2,0,0,1,2.83,0l1.4,1.43a1.91,1.91,0,0,1,.58,1.4,1.91,1.91,0,0,1-.58,1.4L9.25,21ZM18.45,9,17,7.55Zm-12,3A5.31,5.31,0,0,0,4.9,8.1,5.31,5.31,0,0,0,1,6.5,5.31,5.31,0,0,0,4.9,4.9,5.31,5.31,0,0,0,6.5,1,5.31,5.31,0,0,0,8.1,4.9,5.31,5.31,0,0,0,12,6.5,5.46,5.46,0,0,0,6.5,12Z\"/>\n",
              "  </svg>\n",
              "    </button>\n",
              "    <script>\n",
              "      (() => {\n",
              "      const buttonEl =\n",
              "        document.querySelector('#id_a3f6451e-ffef-4fb9-ba94-6c7d0feeafbd button.colab-df-generate');\n",
              "      buttonEl.style.display =\n",
              "        google.colab.kernel.accessAllowed ? 'block' : 'none';\n",
              "\n",
              "      buttonEl.onclick = () => {\n",
              "        google.colab.notebook.generateWithVariable('the_captioning_table');\n",
              "      }\n",
              "      })();\n",
              "    </script>\n",
              "  </div>\n",
              "\n",
              "    </div>\n",
              "  </div>\n"
            ],
            "application/vnd.google.colaboratory.intrinsic+json": {
              "type": "dataframe",
              "variable_name": "the_captioning_table",
              "summary": "{\n  \"name\": \"the_captioning_table\",\n  \"rows\": 5521,\n  \"fields\": [\n    {\n      \"column\": \"ytid\",\n      \"properties\": {\n        \"dtype\": \"string\",\n        \"num_unique_values\": 5521,\n        \"samples\": [\n          \"F7Y1T-rQ2JU\",\n          \"hu6sChY-Yps\",\n          \"RFNRR78dh-8\"\n        ],\n        \"semantic_type\": \"\",\n        \"description\": \"\"\n      }\n    },\n    {\n      \"column\": \"start_s\",\n      \"properties\": {\n        \"dtype\": \"number\",\n        \"std\": 110,\n        \"min\": 0,\n        \"max\": 590,\n        \"num_unique_values\": 79,\n        \"samples\": [\n          210,\n          30,\n          200\n        ],\n        \"semantic_type\": \"\",\n        \"description\": \"\"\n      }\n    },\n    {\n      \"column\": \"end_s\",\n      \"properties\": {\n        \"dtype\": \"number\",\n        \"std\": 110,\n        \"min\": 10,\n        \"max\": 600,\n        \"num_unique_values\": 79,\n        \"samples\": [\n          220,\n          40,\n          210\n        ],\n        \"semantic_type\": \"\",\n        \"description\": \"\"\n      }\n    },\n    {\n      \"column\": \"audioset_positive_labels\",\n      \"properties\": {\n        \"dtype\": \"category\",\n        \"num_unique_values\": 2387,\n        \"samples\": [\n          \"/m/0155w,/m/015lz1,/m/03_d0,/m/04rlf,/m/0b9m1\",\n          \"/m/04rlf,/m/06bxc,/m/06cqb\",\n          \"/m/01glhc,/m/0342h,/m/04rlf,/m/04szw,/m/0fx80y\"\n        ],\n        \"semantic_type\": \"\",\n        \"description\": \"\"\n      }\n    },\n    {\n      \"column\": \"aspect_list\",\n      \"properties\": {\n        \"dtype\": \"string\",\n        \"num_unique_values\": 5518,\n        \"samples\": [\n          \"['educational recording', 'male voice', 'instructive speaking', 'german', 'instrumental', 'various singing bowls', 'meditation', 'calming']\",\n          \"['instrumental', 'vocalisation', 'male voice speaking', 'shell trumpet', 'hindu rituals', 'hindu puja', 'bengali pujo', 'chanting', 'conch shell', 'shell trumpet', 'dramatic music playing', 'intense music', 'cymbal riff', 'synthesiser harmony', 'indian language', 'bengali', 'om chant', 'women chanting']\",\n          \"['metal-rock', 'fully distorted e-guitar', 'uptempo', 'aggressive energy', 'amateur recording']\"\n        ],\n        \"semantic_type\": \"\",\n        \"description\": \"\"\n      }\n    },\n    {\n      \"column\": \"caption\",\n      \"properties\": {\n        \"dtype\": \"string\",\n        \"num_unique_values\": 5521,\n        \"samples\": [\n          \"This is an educational recording. There is a male voice speaking in an instructive manner regarding numerous singing bowls in different shapes and sizes. The player hits each singing bowl while describing their feelings. The sound of the bowls could be isolated from the voice for meditation music.\",\n          \"The low quality recording features a DJ scratching the vinyl of a hip hop song that consists of punchy kick and snare, repetitive wooden percussive elements, shimmering hi hats and open hats and soft crash cymbals. It sounds manic, energetic and kind of muffled, since it was probably recorded with a poor quality microphone.\",\n          \"This is a fun, cheerful and positive song played on the marimba. Percussively, we heard a shaker and some hand tapping on a hard surface. The song creates a light mood and has an African vibe.\"\n        ],\n        \"semantic_type\": \"\",\n        \"description\": \"\"\n      }\n    },\n    {\n      \"column\": \"author_id\",\n      \"properties\": {\n        \"dtype\": \"number\",\n        \"std\": 2,\n        \"min\": 0,\n        \"max\": 9,\n        \"num_unique_values\": 10,\n        \"samples\": [\n          5,\n          0,\n          8\n        ],\n        \"semantic_type\": \"\",\n        \"description\": \"\"\n      }\n    },\n    {\n      \"column\": \"is_balanced_subset\",\n      \"properties\": {\n        \"dtype\": \"boolean\",\n        \"num_unique_values\": 2,\n        \"samples\": [\n          true,\n          false\n        ],\n        \"semantic_type\": \"\",\n        \"description\": \"\"\n      }\n    },\n    {\n      \"column\": \"is_audioset_eval\",\n      \"properties\": {\n        \"dtype\": \"boolean\",\n        \"num_unique_values\": 2,\n        \"samples\": [\n          false,\n          true\n        ],\n        \"semantic_type\": \"\",\n        \"description\": \"\"\n      }\n    }\n  ]\n}"
            }
          },
          "metadata": {},
          "execution_count": 7
        }
      ]
    },
    {
      "cell_type": "code",
      "source": [
        "def convert_string_to_lists(input_string):\n",
        "    \"\"\"Converts a string representation of nested lists to two separate lists.\n",
        "\n",
        "    Args:\n",
        "        input_string: The string to convert.  It should represent a list containing two lists.\n",
        "\n",
        "    Returns:\n",
        "        A tuple containing two lists, or None if the input is invalid.\n",
        "    \"\"\"\n",
        "    try:\n",
        "        # Remove brackets and split by comma\n",
        "        cleaned_string = input_string.replace('[', '').replace(']', '').strip()\n",
        "        list_strings = cleaned_string.split(',')\n",
        "\n",
        "        # Split the list strings further into two main lists\n",
        "        objective_words = [item.strip().replace(\"'\", \"\") for item in list_strings[0].split()]\n",
        "        subjective_words = [item.strip().replace(\"'\", \"\") for item in list_strings[1].split()]\n",
        "        return objective_words, subjective_words\n",
        "\n",
        "    except Exception as e:\n",
        "        print(f\"An error occurred: {e}\")\n",
        "        return None\n"
      ],
      "metadata": {
        "id": "YhooNzwSQDtg"
      },
      "execution_count": null,
      "outputs": []
    },
    {
      "cell_type": "code",
      "source": [
        "def formatting_responses(df):\n",
        "  new_dataframe = pd.DataFrame(columns=[\"id\",\"caption\", \"objective_words\", \"subjective_words\"])\n",
        "  count = 0\n",
        "  for index in range(len(df)):\n",
        "    list_of_words = chat_with_gpt(df.iloc[index][\"caption\"])\n",
        "    convert_string_to_lists(list_of_words)\n",
        "    id = df.iloc[index][\"ytid\"]\n",
        "    caption = df.iloc[index][\"caption\"]\n",
        "    objective_words = convert_string_to_lists(list_of_words)[0]\n",
        "    subjective_words= convert_string_to_lists(list_of_words)[1]\n",
        "    new_dataframe.loc[index] = [id, caption, objective_words, subjective_words]\n",
        "    count+=1\n",
        "    print(count)\n",
        "    if count%100 == 0:\n",
        "      new_dataframe.to_csv(\"new_dataframe.csv\")\n",
        "      print(new_dataframe)\n",
        "  new_dataframe.to_csv(\"new_dataframe.csv\")\n",
        "  return new_dataframe\n",
        "\n"
      ],
      "metadata": {
        "id": "MgeyGoevPu4d"
      },
      "execution_count": null,
      "outputs": []
    },
    {
      "cell_type": "code",
      "source": [
        "import pandas as pd\n",
        "import concurrent.futures\n",
        "from tqdm import tqdm  # Progress bar library\n",
        "\n",
        "def process_caption(row):\n",
        "    \"\"\"Function to process a single row from the DataFrame\"\"\"\n",
        "    try:\n",
        "        list_of_words = chat_with_gpt(row[\"generated_caption\"])\n",
        "        objective_words, subjective_words = convert_string_to_lists(list_of_words)\n",
        "        return row[\"file_id\"], row[\"generated_caption\"], objective_words, subjective_words\n",
        "    except Exception as e:\n",
        "        print(f\"Error processing row {row['file_id']}: {e}\")\n",
        "        return row[\"file_id\"], row[\"generated_caption\"], None, None  # Handle failed API calls gracefully\n",
        "\n",
        "def formatting_responses(df, num_workers=10):\n",
        "    \"\"\"Parallelized function to process DataFrame using ThreadPoolExecutor with a progress bar\"\"\"\n",
        "    results = []\n",
        "\n",
        "    with concurrent.futures.ThreadPoolExecutor(max_workers=num_workers) as executor:\n",
        "        # Use tqdm for progress visualization\n",
        "        for result in tqdm(executor.map(process_caption, df.to_dict(orient=\"records\")), total=len(df), desc=\"Processing Captions\"):\n",
        "            results.append(result)\n",
        "\n",
        "    # Convert results into a DataFrame\n",
        "    new_dataframe = pd.DataFrame(results, columns=[\"id\", \"caption\", \"objective_words\", \"subjective_words\"])\n",
        "\n",
        "    # Save results to CSV\n",
        "    new_dataframe.to_csv(\"new_dataframe.csv\", index=False)\n",
        "\n",
        "    return new_dataframe\n"
      ],
      "metadata": {
        "id": "n9SF0M4dTrI8"
      },
      "execution_count": null,
      "outputs": []
    },
    {
      "cell_type": "code",
      "source": [
        "our_table = formatting_responses(the_captioning_table)"
      ],
      "metadata": {
        "colab": {
          "base_uri": "https://localhost:8080/"
        },
        "id": "Adv2wfEIO1jS",
        "outputId": "f02e92e3-9316-43a8-e0ae-fb1ead570cde"
      },
      "execution_count": null,
      "outputs": [
        {
          "output_type": "stream",
          "name": "stderr",
          "text": [
            "Processing Captions: 100%|██████████| 5521/5521 [14:51<00:00,  6.19it/s]\n"
          ]
        }
      ]
    },
    {
      "cell_type": "code",
      "source": [
        "our_table.to_csv(\"total_table_analysis.csv\")"
      ],
      "metadata": {
        "id": "O79o-5_iXS17"
      },
      "execution_count": null,
      "outputs": []
    },
    {
      "cell_type": "code",
      "source": [
        "# prompt: convert [['advertisement', 'jingle', 'didgeridoo', 'percussively', 'drone', 'amateur recording', 'poor audio-quality'], ['scary', 'horror-like']] to two lists, the initial input is a string\n",
        "\n",
        "def convert_string_to_lists(input_string):\n",
        "    \"\"\"Converts a string representation of nested lists to two separate lists.\n",
        "\n",
        "    Args:\n",
        "        input_string: The string to convert.  It should represent a list containing two lists.\n",
        "\n",
        "    Returns:\n",
        "        A tuple containing two lists, or None if the input is invalid.\n",
        "    \"\"\"\n",
        "    try:\n",
        "        # Remove brackets and split by comma\n",
        "        cleaned_string = input_string.replace('[', '').replace(']', '').strip()\n",
        "        list_strings = cleaned_string.split(',')\n",
        "\n",
        "        # Split the list strings further into two main lists\n",
        "        objective_words = [item.strip().replace(\"'\", \"\") for item in list_strings[0].split()]\n",
        "        subjective_words = [item.strip().replace(\"'\", \"\") for item in list_strings[1].split()]\n",
        "        return objective_words, subjective_words\n",
        "\n",
        "    except Exception as e:\n",
        "        print(f\"An error occurred: {e}\")\n",
        "        return None\n",
        "\n",
        "# Example usage\n",
        "string_input = \"['advertisement', 'jingle', 'didgeridoo', 'percussively', 'drone', 'amateur recording', 'poor audio-quality'], ['scary', 'horror-like']\"\n",
        "objective_list, subjective_list = convert_string_to_lists(string_input)\n",
        "\n",
        "if objective_list and subjective_list:\n",
        "  print(\"Objective Words:\", objective_list)\n",
        "  print(\"Subjective Words:\", subjective_list)\n"
      ],
      "metadata": {
        "colab": {
          "base_uri": "https://localhost:8080/"
        },
        "id": "GLzoejuNPVY1",
        "outputId": "da9697ff-7440-4dff-f77d-83b6335e956f"
      },
      "execution_count": null,
      "outputs": [
        {
          "output_type": "stream",
          "name": "stdout",
          "text": [
            "Objective Words: ['advertisement']\n",
            "Subjective Words: ['jingle']\n"
          ]
        }
      ]
    },
    {
      "cell_type": "code",
      "source": [
        "inference_table = pd.read_csv(\"/content/csv_validation_table.csv\")"
      ],
      "metadata": {
        "id": "wEY01aZmmGde"
      },
      "execution_count": null,
      "outputs": []
    },
    {
      "cell_type": "code",
      "source": [
        "inference_table = formatting_responses(inference_table)"
      ],
      "metadata": {
        "colab": {
          "base_uri": "https://localhost:8080/"
        },
        "id": "iIrSzkkZQBuy",
        "outputId": "6540db90-c0e4-4c3e-e7f6-6fa2470d76cb"
      },
      "execution_count": null,
      "outputs": [
        {
          "output_type": "stream",
          "name": "stderr",
          "text": [
            "Processing Captions:  92%|█████████▏| 951/1032 [02:55<00:11,  7.21it/s]"
          ]
        },
        {
          "output_type": "stream",
          "name": "stdout",
          "text": [
            "An error occurred: Error code: 429 - {'error': {'message': 'You exceeded your current quota, please check your plan and billing details. For more information on this error, read the docs: https://platform.openai.com/docs/guides/error-codes/api-errors.', 'type': 'insufficient_quota', 'param': None, 'code': 'insufficient_quota'}}\n",
            "An error occurred: 'NoneType' object has no attribute 'replace'\n",
            "Error processing row Xus0LI3QV2A: cannot unpack non-iterable NoneType object\n",
            "An error occurred: Error code: 429 - {'error': {'message': 'You exceeded your current quota, please check your plan and billing details. For more information on this error, read the docs: https://platform.openai.com/docs/guides/error-codes/api-errors.', 'type': 'insufficient_quota', 'param': None, 'code': 'insufficient_quota'}}\n",
            "An error occurred: 'NoneType' object has no attribute 'replace'\n",
            "Error processing row mqyeBqaUeN8: cannot unpack non-iterable NoneType object\n",
            "An error occurred: Error code: 429 - {'error': {'message': 'You exceeded your current quota, please check your plan and billing details. For more information on this error, read the docs: https://platform.openai.com/docs/guides/error-codes/api-errors.', 'type': 'insufficient_quota', 'param': None, 'code': 'insufficient_quota'}}\n",
            "An error occurred: 'NoneType' object has no attribute 'replace'\n",
            "Error processing row ZSGRzalgx4s: cannot unpack non-iterable NoneType object\n",
            "An error occurred: Error code: 429 - {'error': {'message': 'You exceeded your current quota, please check your plan and billing details. For more information on this error, read the docs: https://platform.openai.com/docs/guides/error-codes/api-errors.', 'type': 'insufficient_quota', 'param': None, 'code': 'insufficient_quota'}}\n",
            "An error occurred: 'NoneType' object has no attribute 'replace'\n",
            "Error processing row oBwt8T8P8Zs: cannot unpack non-iterable NoneType object\n",
            "An error occurred: Error code: 429 - {'error': {'message': 'You exceeded your current quota, please check your plan and billing details. For more information on this error, read the docs: https://platform.openai.com/docs/guides/error-codes/api-errors.', 'type': 'insufficient_quota', 'param': None, 'code': 'insufficient_quota'}}\n",
            "An error occurred: 'NoneType' object has no attribute 'replace'\n",
            "Error processing row l6LUPlmua6I: cannot unpack non-iterable NoneType object\n",
            "An error occurred: Error code: 429 - {'error': {'message': 'You exceeded your current quota, please check your plan and billing details. For more information on this error, read the docs: https://platform.openai.com/docs/guides/error-codes/api-errors.', 'type': 'insufficient_quota', 'param': None, 'code': 'insufficient_quota'}}\n",
            "An error occurred: 'NoneType' object has no attribute 'replace'\n",
            "Error processing row ITg9o6Gwsbo: cannot unpack non-iterable NoneType object\n",
            "An error occurred: Error code: 429 - {'error': {'message': 'You exceeded your current quota, please check your plan and billing details. For more information on this error, read the docs: https://platform.openai.com/docs/guides/error-codes/api-errors.', 'type': 'insufficient_quota', 'param': None, 'code': 'insufficient_quota'}}\n",
            "An error occurred: 'NoneType' object has no attribute 'replace'\n",
            "Error processing row Fz-ZNyVKWro: cannot unpack non-iterable NoneType object\n",
            "An error occurred: Error code: 429 - {'error': {'message': 'You exceeded your current quota, please check your plan and billing details. For more information on this error, read the docs: https://platform.openai.com/docs/guides/error-codes/api-errors.', 'type': 'insufficient_quota', 'param': None, 'code': 'insufficient_quota'}}\n",
            "An error occurred: 'NoneType' object has no attribute 'replace'\n",
            "Error processing row l-RdHtsYWBY: cannot unpack non-iterable NoneType object\n"
          ]
        },
        {
          "output_type": "stream",
          "name": "stderr",
          "text": [
            "Processing Captions:  94%|█████████▍| 974/1032 [03:00<00:08,  6.86it/s]"
          ]
        },
        {
          "output_type": "stream",
          "name": "stdout",
          "text": [
            "An error occurred: Error code: 429 - {'error': {'message': 'You exceeded your current quota, please check your plan and billing details. For more information on this error, read the docs: https://platform.openai.com/docs/guides/error-codes/api-errors.', 'type': 'insufficient_quota', 'param': None, 'code': 'insufficient_quota'}}\n",
            "An error occurred: 'NoneType' object has no attribute 'replace'\n",
            "Error processing row WK-gdfCurCg: cannot unpack non-iterable NoneType object\n",
            "An error occurred: Error code: 429 - {'error': {'message': 'You exceeded your current quota, please check your plan and billing details. For more information on this error, read the docs: https://platform.openai.com/docs/guides/error-codes/api-errors.', 'type': 'insufficient_quota', 'param': None, 'code': 'insufficient_quota'}}\n",
            "An error occurred: 'NoneType' object has no attribute 'replace'\n",
            "Error processing row 8oTTgXIO0-I: cannot unpack non-iterable NoneType object\n",
            "An error occurred: Error code: 429 - {'error': {'message': 'You exceeded your current quota, please check your plan and billing details. For more information on this error, read the docs: https://platform.openai.com/docs/guides/error-codes/api-errors.', 'type': 'insufficient_quota', 'param': None, 'code': 'insufficient_quota'}}\n",
            "An error occurred: 'NoneType' object has no attribute 'replace'\n",
            "Error processing row iEQwupwwp0s: cannot unpack non-iterable NoneType object\n"
          ]
        },
        {
          "output_type": "stream",
          "name": "stderr",
          "text": [
            "\rProcessing Captions:  95%|█████████▍| 977/1032 [03:00<00:07,  6.95it/s]"
          ]
        },
        {
          "output_type": "stream",
          "name": "stdout",
          "text": [
            "An error occurred: Error code: 429 - {'error': {'message': 'You exceeded your current quota, please check your plan and billing details. For more information on this error, read the docs: https://platform.openai.com/docs/guides/error-codes/api-errors.', 'type': 'insufficient_quota', 'param': None, 'code': 'insufficient_quota'}}\n",
            "An error occurred: 'NoneType' object has no attribute 'replace'\n",
            "Error processing row AVogdV8khxc: cannot unpack non-iterable NoneType object\n",
            "An error occurred: Error code: 429 - {'error': {'message': 'You exceeded your current quota, please check your plan and billing details. For more information on this error, read the docs: https://platform.openai.com/docs/guides/error-codes/api-errors.', 'type': 'insufficient_quota', 'param': None, 'code': 'insufficient_quota'}}\n",
            "An error occurred: 'NoneType' object has no attribute 'replace'\n",
            "Error processing row IqGB4nQIAcQ: cannot unpack non-iterable NoneType object\n",
            "An error occurred: Error code: 429 - {'error': {'message': 'You exceeded your current quota, please check your plan and billing details. For more information on this error, read the docs: https://platform.openai.com/docs/guides/error-codes/api-errors.', 'type': 'insufficient_quota', 'param': None, 'code': 'insufficient_quota'}}\n",
            "An error occurred: 'NoneType' object has no attribute 'replace'\n",
            "Error processing row hTAWbHXCJ2A: cannot unpack non-iterable NoneType object\n"
          ]
        },
        {
          "output_type": "stream",
          "name": "stderr",
          "text": [
            "\rProcessing Captions:  95%|█████████▍| 980/1032 [03:01<00:07,  7.04it/s]"
          ]
        },
        {
          "output_type": "stream",
          "name": "stdout",
          "text": [
            "An error occurred: Error code: 429 - {'error': {'message': 'You exceeded your current quota, please check your plan and billing details. For more information on this error, read the docs: https://platform.openai.com/docs/guides/error-codes/api-errors.', 'type': 'insufficient_quota', 'param': None, 'code': 'insufficient_quota'}}\n",
            "An error occurred: 'NoneType' object has no attribute 'replace'\n",
            "Error processing row ZleHXDirD58: cannot unpack non-iterable NoneType object\n",
            "An error occurred: Error code: 429 - {'error': {'message': 'You exceeded your current quota, please check your plan and billing details. For more information on this error, read the docs: https://platform.openai.com/docs/guides/error-codes/api-errors.', 'type': 'insufficient_quota', 'param': None, 'code': 'insufficient_quota'}}\n",
            "An error occurred: 'NoneType' object has no attribute 'replace'\n",
            "Error processing row 5bn7PPKcqSA: cannot unpack non-iterable NoneType object\n"
          ]
        },
        {
          "output_type": "stream",
          "name": "stderr",
          "text": [
            "\rProcessing Captions:  95%|█████████▌| 982/1032 [03:01<00:07,  7.07it/s]"
          ]
        },
        {
          "output_type": "stream",
          "name": "stdout",
          "text": [
            "An error occurred: Error code: 429 - {'error': {'message': 'You exceeded your current quota, please check your plan and billing details. For more information on this error, read the docs: https://platform.openai.com/docs/guides/error-codes/api-errors.', 'type': 'insufficient_quota', 'param': None, 'code': 'insufficient_quota'}}\n",
            "An error occurred: 'NoneType' object has no attribute 'replace'\n",
            "Error processing row QZNrK337wow: cannot unpack non-iterable NoneType object\n",
            "An error occurred: Error code: 429 - {'error': {'message': 'You exceeded your current quota, please check your plan and billing details. For more information on this error, read the docs: https://platform.openai.com/docs/guides/error-codes/api-errors.', 'type': 'insufficient_quota', 'param': None, 'code': 'insufficient_quota'}}\n",
            "An error occurred: 'NoneType' object has no attribute 'replace'\n",
            "Error processing row 6XZGmRuaOfo: cannot unpack non-iterable NoneType object\n"
          ]
        },
        {
          "output_type": "stream",
          "name": "stderr",
          "text": [
            "\rProcessing Captions:  95%|█████████▌| 984/1032 [03:02<00:09,  5.15it/s]"
          ]
        },
        {
          "output_type": "stream",
          "name": "stdout",
          "text": [
            "An error occurred: Error code: 429 - {'error': {'message': 'You exceeded your current quota, please check your plan and billing details. For more information on this error, read the docs: https://platform.openai.com/docs/guides/error-codes/api-errors.', 'type': 'insufficient_quota', 'param': None, 'code': 'insufficient_quota'}}\n",
            "An error occurred: 'NoneType' object has no attribute 'replace'\n",
            "Error processing row hoPnrbKOEl8: cannot unpack non-iterable NoneType object\n",
            "An error occurred: Error code: 429 - {'error': {'message': 'You exceeded your current quota, please check your plan and billing details. For more information on this error, read the docs: https://platform.openai.com/docs/guides/error-codes/api-errors.', 'type': 'insufficient_quota', 'param': None, 'code': 'insufficient_quota'}}\n",
            "An error occurred: 'NoneType' object has no attribute 'replace'\n",
            "Error processing row tJWduBZRJkE: cannot unpack non-iterable NoneType object\n",
            "An error occurred: Error code: 429 - {'error': {'message': 'You exceeded your current quota, please check your plan and billing details. For more information on this error, read the docs: https://platform.openai.com/docs/guides/error-codes/api-errors.', 'type': 'insufficient_quota', 'param': None, 'code': 'insufficient_quota'}}\n",
            "An error occurred: 'NoneType' object has no attribute 'replace'\n",
            "Error processing row Yz1DrC54UGk: cannot unpack non-iterable NoneType object\n"
          ]
        },
        {
          "output_type": "stream",
          "name": "stderr",
          "text": [
            "\rProcessing Captions:  96%|█████████▌| 987/1032 [03:02<00:07,  5.98it/s]"
          ]
        },
        {
          "output_type": "stream",
          "name": "stdout",
          "text": [
            "An error occurred: Error code: 429 - {'error': {'message': 'You exceeded your current quota, please check your plan and billing details. For more information on this error, read the docs: https://platform.openai.com/docs/guides/error-codes/api-errors.', 'type': 'insufficient_quota', 'param': None, 'code': 'insufficient_quota'}}\n",
            "An error occurred: 'NoneType' object has no attribute 'replace'\n",
            "Error processing row IMnh-TIyFuE: cannot unpack non-iterable NoneType object\n",
            "An error occurred: Error code: 429 - {'error': {'message': 'You exceeded your current quota, please check your plan and billing details. For more information on this error, read the docs: https://platform.openai.com/docs/guides/error-codes/api-errors.', 'type': 'insufficient_quota', 'param': None, 'code': 'insufficient_quota'}}\n",
            "An error occurred: 'NoneType' object has no attribute 'replace'\n",
            "Error processing row JPVRBbdykSw: cannot unpack non-iterable NoneType object\n"
          ]
        },
        {
          "output_type": "stream",
          "name": "stderr",
          "text": [
            "Processing Captions:  96%|█████████▌| 990/1032 [03:03<00:06,  6.01it/s]"
          ]
        },
        {
          "output_type": "stream",
          "name": "stdout",
          "text": [
            "An error occurred: Error code: 429 - {'error': {'message': 'You exceeded your current quota, please check your plan and billing details. For more information on this error, read the docs: https://platform.openai.com/docs/guides/error-codes/api-errors.', 'type': 'insufficient_quota', 'param': None, 'code': 'insufficient_quota'}}\n",
            "An error occurred: 'NoneType' object has no attribute 'replace'\n",
            "Error processing row wraN7rWUsfI: cannot unpack non-iterable NoneType object\n",
            "An error occurred: Error code: 429 - {'error': {'message': 'You exceeded your current quota, please check your plan and billing details. For more information on this error, read the docs: https://platform.openai.com/docs/guides/error-codes/api-errors.', 'type': 'insufficient_quota', 'param': None, 'code': 'insufficient_quota'}}\n",
            "An error occurred: 'NoneType' object has no attribute 'replace'\n",
            "Error processing row AzsBSUmhl1M: cannot unpack non-iterable NoneType object\n"
          ]
        },
        {
          "output_type": "stream",
          "name": "stderr",
          "text": [
            "\rProcessing Captions:  96%|█████████▌| 991/1032 [03:03<00:07,  5.37it/s]"
          ]
        },
        {
          "output_type": "stream",
          "name": "stdout",
          "text": [
            "An error occurred: Error code: 429 - {'error': {'message': 'You exceeded your current quota, please check your plan and billing details. For more information on this error, read the docs: https://platform.openai.com/docs/guides/error-codes/api-errors.', 'type': 'insufficient_quota', 'param': None, 'code': 'insufficient_quota'}}\n",
            "An error occurred: 'NoneType' object has no attribute 'replace'\n",
            "Error processing row woVby8SBWDI: cannot unpack non-iterable NoneType object\n",
            "An error occurred: Error code: 429 - {'error': {'message': 'You exceeded your current quota, please check your plan and billing details. For more information on this error, read the docs: https://platform.openai.com/docs/guides/error-codes/api-errors.', 'type': 'insufficient_quota', 'param': None, 'code': 'insufficient_quota'}}\n",
            "An error occurred: 'NoneType' object has no attribute 'replace'\n",
            "Error processing row MipnqUXgpOA: cannot unpack non-iterable NoneType object\n"
          ]
        },
        {
          "output_type": "stream",
          "name": "stderr",
          "text": [
            "\rProcessing Captions:  96%|█████████▌| 993/1032 [03:03<00:07,  5.01it/s]"
          ]
        },
        {
          "output_type": "stream",
          "name": "stdout",
          "text": [
            "An error occurred: Error code: 429 - {'error': {'message': 'You exceeded your current quota, please check your plan and billing details. For more information on this error, read the docs: https://platform.openai.com/docs/guides/error-codes/api-errors.', 'type': 'insufficient_quota', 'param': None, 'code': 'insufficient_quota'}}\n",
            "An error occurred: 'NoneType' object has no attribute 'replace'\n",
            "Error processing row uAgizG1hYw0: cannot unpack non-iterable NoneType object\n"
          ]
        },
        {
          "output_type": "stream",
          "name": "stderr",
          "text": [
            "\rProcessing Captions:  96%|█████████▋| 994/1032 [03:04<00:09,  3.93it/s]"
          ]
        },
        {
          "output_type": "stream",
          "name": "stdout",
          "text": [
            "An error occurred: Error code: 429 - {'error': {'message': 'You exceeded your current quota, please check your plan and billing details. For more information on this error, read the docs: https://platform.openai.com/docs/guides/error-codes/api-errors.', 'type': 'insufficient_quota', 'param': None, 'code': 'insufficient_quota'}}\n",
            "An error occurred: 'NoneType' object has no attribute 'replace'\n",
            "Error processing row 9ZryMX2UtAo: cannot unpack non-iterable NoneType object\n",
            "An error occurred: Error code: 429 - {'error': {'message': 'You exceeded your current quota, please check your plan and billing details. For more information on this error, read the docs: https://platform.openai.com/docs/guides/error-codes/api-errors.', 'type': 'insufficient_quota', 'param': None, 'code': 'insufficient_quota'}}\n",
            "An error occurred: 'NoneType' object has no attribute 'replace'\n",
            "Error processing row tw8-TlQBcBA: cannot unpack non-iterable NoneType object\n",
            "An error occurred: Error code: 429 - {'error': {'message': 'You exceeded your current quota, please check your plan and billing details. For more information on this error, read the docs: https://platform.openai.com/docs/guides/error-codes/api-errors.', 'type': 'insufficient_quota', 'param': None, 'code': 'insufficient_quota'}}\n",
            "An error occurred: 'NoneType' object has no attribute 'replace'\n",
            "Error processing row f8QGA4vN6HY: cannot unpack non-iterable NoneType object\n"
          ]
        },
        {
          "output_type": "stream",
          "name": "stderr",
          "text": [
            "\rProcessing Captions:  97%|█████████▋| 997/1032 [03:04<00:06,  5.45it/s]"
          ]
        },
        {
          "output_type": "stream",
          "name": "stdout",
          "text": [
            "An error occurred: Error code: 429 - {'error': {'message': 'You exceeded your current quota, please check your plan and billing details. For more information on this error, read the docs: https://platform.openai.com/docs/guides/error-codes/api-errors.', 'type': 'insufficient_quota', 'param': None, 'code': 'insufficient_quota'}}\n",
            "An error occurred: 'NoneType' object has no attribute 'replace'\n",
            "Error processing row mWuX--EEq2E: cannot unpack non-iterable NoneType object\n",
            "An error occurred: Error code: 429 - {'error': {'message': 'You exceeded your current quota, please check your plan and billing details. For more information on this error, read the docs: https://platform.openai.com/docs/guides/error-codes/api-errors.', 'type': 'insufficient_quota', 'param': None, 'code': 'insufficient_quota'}}\n",
            "An error occurred: 'NoneType' object has no attribute 'replace'\n",
            "Error processing row ua0hgl8fi0I: cannot unpack non-iterable NoneType object\n"
          ]
        },
        {
          "output_type": "stream",
          "name": "stderr",
          "text": [
            "\rProcessing Captions:  97%|█████████▋| 999/1032 [03:05<00:05,  5.67it/s]"
          ]
        },
        {
          "output_type": "stream",
          "name": "stdout",
          "text": [
            "An error occurred: Error code: 429 - {'error': {'message': 'You exceeded your current quota, please check your plan and billing details. For more information on this error, read the docs: https://platform.openai.com/docs/guides/error-codes/api-errors.', 'type': 'insufficient_quota', 'param': None, 'code': 'insufficient_quota'}}\n",
            "An error occurred: 'NoneType' object has no attribute 'replace'\n",
            "Error processing row 4GlH0-KhInI: cannot unpack non-iterable NoneType object\n",
            "An error occurred: Error code: 429 - {'error': {'message': 'You exceeded your current quota, please check your plan and billing details. For more information on this error, read the docs: https://platform.openai.com/docs/guides/error-codes/api-errors.', 'type': 'insufficient_quota', 'param': None, 'code': 'insufficient_quota'}}\n",
            "An error occurred: 'NoneType' object has no attribute 'replace'\n",
            "Error processing row ABWE9tjTvuI: cannot unpack non-iterable NoneType object\n"
          ]
        },
        {
          "output_type": "stream",
          "name": "stderr",
          "text": [
            "\rProcessing Captions:  97%|█████████▋| 1001/1032 [03:05<00:04,  6.47it/s]"
          ]
        },
        {
          "output_type": "stream",
          "name": "stdout",
          "text": [
            "An error occurred: Error code: 429 - {'error': {'message': 'You exceeded your current quota, please check your plan and billing details. For more information on this error, read the docs: https://platform.openai.com/docs/guides/error-codes/api-errors.', 'type': 'insufficient_quota', 'param': None, 'code': 'insufficient_quota'}}\n",
            "An error occurred: 'NoneType' object has no attribute 'replace'\n",
            "Error processing row O6xMQnKJROc: cannot unpack non-iterable NoneType object\n"
          ]
        },
        {
          "output_type": "stream",
          "name": "stderr",
          "text": [
            "\rProcessing Captions:  97%|█████████▋| 1002/1032 [03:05<00:05,  5.37it/s]"
          ]
        },
        {
          "output_type": "stream",
          "name": "stdout",
          "text": [
            "An error occurred: Error code: 429 - {'error': {'message': 'You exceeded your current quota, please check your plan and billing details. For more information on this error, read the docs: https://platform.openai.com/docs/guides/error-codes/api-errors.', 'type': 'insufficient_quota', 'param': None, 'code': 'insufficient_quota'}}\n",
            "An error occurred: 'NoneType' object has no attribute 'replace'\n",
            "Error processing row ViF7A7XODiw: cannot unpack non-iterable NoneType object\n"
          ]
        },
        {
          "output_type": "stream",
          "name": "stderr",
          "text": [
            "\rProcessing Captions:  97%|█████████▋| 1003/1032 [03:05<00:05,  5.13it/s]"
          ]
        },
        {
          "output_type": "stream",
          "name": "stdout",
          "text": [
            "An error occurred: Error code: 429 - {'error': {'message': 'You exceeded your current quota, please check your plan and billing details. For more information on this error, read the docs: https://platform.openai.com/docs/guides/error-codes/api-errors.', 'type': 'insufficient_quota', 'param': None, 'code': 'insufficient_quota'}}\n",
            "An error occurred: 'NoneType' object has no attribute 'replace'\n",
            "Error processing row ymOjaaxRDLU: cannot unpack non-iterable NoneType object\n"
          ]
        },
        {
          "output_type": "stream",
          "name": "stderr",
          "text": [
            "Processing Captions:  97%|█████████▋| 1005/1032 [03:06<00:06,  4.17it/s]"
          ]
        },
        {
          "output_type": "stream",
          "name": "stdout",
          "text": [
            "An error occurred: Error code: 429 - {'error': {'message': 'You exceeded your current quota, please check your plan and billing details. For more information on this error, read the docs: https://platform.openai.com/docs/guides/error-codes/api-errors.', 'type': 'insufficient_quota', 'param': None, 'code': 'insufficient_quota'}}\n",
            "An error occurred: 'NoneType' object has no attribute 'replace'\n",
            "Error processing row IFumVgqOVaM: cannot unpack non-iterable NoneType object\n",
            "An error occurred: Error code: 429 - {'error': {'message': 'You exceeded your current quota, please check your plan and billing details. For more information on this error, read the docs: https://platform.openai.com/docs/guides/error-codes/api-errors.', 'type': 'insufficient_quota', 'param': None, 'code': 'insufficient_quota'}}\n",
            "An error occurred: 'NoneType' object has no attribute 'replace'\n",
            "Error processing row 5gh5H0QqJl0: cannot unpack non-iterable NoneType object\n",
            "An error occurred: Error code: 429 - {'error': {'message': 'You exceeded your current quota, please check your plan and billing details. For more information on this error, read the docs: https://platform.openai.com/docs/guides/error-codes/api-errors.', 'type': 'insufficient_quota', 'param': None, 'code': 'insufficient_quota'}}\n",
            "An error occurred: 'NoneType' object has no attribute 'replace'\n",
            "Error processing row cLIump75aC0: cannot unpack non-iterable NoneType object\n"
          ]
        },
        {
          "output_type": "stream",
          "name": "stderr",
          "text": [
            "\rProcessing Captions:  98%|█████████▊| 1007/1032 [03:06<00:04,  5.18it/s]"
          ]
        },
        {
          "output_type": "stream",
          "name": "stdout",
          "text": [
            "An error occurred: Error code: 429 - {'error': {'message': 'You exceeded your current quota, please check your plan and billing details. For more information on this error, read the docs: https://platform.openai.com/docs/guides/error-codes/api-errors.', 'type': 'insufficient_quota', 'param': None, 'code': 'insufficient_quota'}}\n",
            "An error occurred: 'NoneType' object has no attribute 'replace'\n",
            "Error processing row kR2yBlL6nFU: cannot unpack non-iterable NoneType object\n",
            "An error occurred: Error code: 429 - {'error': {'message': 'You exceeded your current quota, please check your plan and billing details. For more information on this error, read the docs: https://platform.openai.com/docs/guides/error-codes/api-errors.', 'type': 'insufficient_quota', 'param': None, 'code': 'insufficient_quota'}}\n",
            "An error occurred: 'NoneType' object has no attribute 'replace'\n",
            "Error processing row dS8AZdmn8Wk: cannot unpack non-iterable NoneType object\n",
            "An error occurred: Error code: 429 - {'error': {'message': 'You exceeded your current quota, please check your plan and billing details. For more information on this error, read the docs: https://platform.openai.com/docs/guides/error-codes/api-errors.', 'type': 'insufficient_quota', 'param': None, 'code': 'insufficient_quota'}}\n",
            "An error occurred: 'NoneType' object has no attribute 'replace'\n",
            "Error processing row GopccU3Am1w: cannot unpack non-iterable NoneType object\n",
            "An error occurred: Error code: 429 - {'error': {'message': 'You exceeded your current quota, please check your plan and billing details. For more information on this error, read the docs: https://platform.openai.com/docs/guides/error-codes/api-errors.', 'type': 'insufficient_quota', 'param': None, 'code': 'insufficient_quota'}}\n",
            "An error occurred: 'NoneType' object has no attribute 'replace'\n",
            "Error processing row AFwmMFq_xlc: cannot unpack non-iterable NoneType object\n",
            "An error occurred: Error code: 429 - {'error': {'message': 'You exceeded your current quota, please check your plan and billing details. For more information on this error, read the docs: https://platform.openai.com/docs/guides/error-codes/api-errors.', 'type': 'insufficient_quota', 'param': None, 'code': 'insufficient_quota'}}\n",
            "An error occurred: 'NoneType' object has no attribute 'replace'\n",
            "Error processing row ba5xPgcHN_0: cannot unpack non-iterable NoneType object\n",
            "An error occurred: Error code: 429 - {'error': {'message': 'You exceeded your current quota, please check your plan and billing details. For more information on this error, read the docs: https://platform.openai.com/docs/guides/error-codes/api-errors.', 'type': 'insufficient_quota', 'param': None, 'code': 'insufficient_quota'}}\n",
            "An error occurred: 'NoneType' object has no attribute 'replace'\n",
            "Error processing row uARzr9CAemI: cannot unpack non-iterable NoneType object\n"
          ]
        },
        {
          "output_type": "stream",
          "name": "stderr",
          "text": [
            "\rProcessing Captions:  98%|█████████▊| 1009/1032 [03:08<00:08,  2.60it/s]"
          ]
        },
        {
          "output_type": "stream",
          "name": "stdout",
          "text": [
            "An error occurred: Error code: 429 - {'error': {'message': 'You exceeded your current quota, please check your plan and billing details. For more information on this error, read the docs: https://platform.openai.com/docs/guides/error-codes/api-errors.', 'type': 'insufficient_quota', 'param': None, 'code': 'insufficient_quota'}}\n",
            "An error occurred: 'NoneType' object has no attribute 'replace'\n",
            "Error processing row 51bsCRv6kI0: cannot unpack non-iterable NoneType object\n",
            "An error occurred: Error code: 429 - {'error': {'message': 'You exceeded your current quota, please check your plan and billing details. For more information on this error, read the docs: https://platform.openai.com/docs/guides/error-codes/api-errors.', 'type': 'insufficient_quota', 'param': None, 'code': 'insufficient_quota'}}\n",
            "An error occurred: 'NoneType' object has no attribute 'replace'\n",
            "Error processing row DroAzooK4yw: cannot unpack non-iterable NoneType object\n"
          ]
        },
        {
          "output_type": "stream",
          "name": "stderr",
          "text": [
            "\rProcessing Captions:  98%|█████████▊| 1015/1032 [03:08<00:03,  5.26it/s]"
          ]
        },
        {
          "output_type": "stream",
          "name": "stdout",
          "text": [
            "An error occurred: Error code: 429 - {'error': {'message': 'You exceeded your current quota, please check your plan and billing details. For more information on this error, read the docs: https://platform.openai.com/docs/guides/error-codes/api-errors.', 'type': 'insufficient_quota', 'param': None, 'code': 'insufficient_quota'}}\n",
            "An error occurred: 'NoneType' object has no attribute 'replace'\n",
            "Error processing row l8P2wU-JyI8: cannot unpack non-iterable NoneType object\n",
            "An error occurred: Error code: 429 - {'error': {'message': 'You exceeded your current quota, please check your plan and billing details. For more information on this error, read the docs: https://platform.openai.com/docs/guides/error-codes/api-errors.', 'type': 'insufficient_quota', 'param': None, 'code': 'insufficient_quota'}}\n",
            "An error occurred: 'NoneType' object has no attribute 'replace'\n",
            "Error processing row VzFpg271sm8: cannot unpack non-iterable NoneType object\n",
            "An error occurred: Error code: 429 - {'error': {'message': 'You exceeded your current quota, please check your plan and billing details. For more information on this error, read the docs: https://platform.openai.com/docs/guides/error-codes/api-errors.', 'type': 'insufficient_quota', 'param': None, 'code': 'insufficient_quota'}}\n",
            "An error occurred: 'NoneType' object has no attribute 'replace'\n",
            "Error processing row s72505MIhz8: cannot unpack non-iterable NoneType object\n",
            "An error occurred: Error code: 429 - {'error': {'message': 'You exceeded your current quota, please check your plan and billing details. For more information on this error, read the docs: https://platform.openai.com/docs/guides/error-codes/api-errors.', 'type': 'insufficient_quota', 'param': None, 'code': 'insufficient_quota'}}\n",
            "An error occurred: 'NoneType' object has no attribute 'replace'\n",
            "Error processing row tMMjurLqYJQ: cannot unpack non-iterable NoneType object\n"
          ]
        },
        {
          "output_type": "stream",
          "name": "stderr",
          "text": [
            "\rProcessing Captions:  99%|█████████▊| 1019/1032 [03:08<00:01,  6.55it/s]"
          ]
        },
        {
          "output_type": "stream",
          "name": "stdout",
          "text": [
            "An error occurred: Error code: 429 - {'error': {'message': 'You exceeded your current quota, please check your plan and billing details. For more information on this error, read the docs: https://platform.openai.com/docs/guides/error-codes/api-errors.', 'type': 'insufficient_quota', 'param': None, 'code': 'insufficient_quota'}}\n",
            "An error occurred: 'NoneType' object has no attribute 'replace'\n",
            "Error processing row I-Z3gB6pfIA: cannot unpack non-iterable NoneType object\n"
          ]
        },
        {
          "output_type": "stream",
          "name": "stderr",
          "text": [
            "\rProcessing Captions:  99%|█████████▉| 1020/1032 [03:09<00:01,  6.02it/s]"
          ]
        },
        {
          "output_type": "stream",
          "name": "stdout",
          "text": [
            "An error occurred: Error code: 429 - {'error': {'message': 'You exceeded your current quota, please check your plan and billing details. For more information on this error, read the docs: https://platform.openai.com/docs/guides/error-codes/api-errors.', 'type': 'insufficient_quota', 'param': None, 'code': 'insufficient_quota'}}\n",
            "An error occurred: 'NoneType' object has no attribute 'replace'\n",
            "Error processing row cnmedj0fYTQ: cannot unpack non-iterable NoneType object\n"
          ]
        },
        {
          "output_type": "stream",
          "name": "stderr",
          "text": [
            "\rProcessing Captions:  99%|█████████▉| 1021/1032 [03:09<00:02,  4.76it/s]"
          ]
        },
        {
          "output_type": "stream",
          "name": "stdout",
          "text": [
            "An error occurred: Error code: 429 - {'error': {'message': 'You exceeded your current quota, please check your plan and billing details. For more information on this error, read the docs: https://platform.openai.com/docs/guides/error-codes/api-errors.', 'type': 'insufficient_quota', 'param': None, 'code': 'insufficient_quota'}}\n",
            "An error occurred: 'NoneType' object has no attribute 'replace'\n",
            "Error processing row doHRurF8bf8: cannot unpack non-iterable NoneType object\n"
          ]
        },
        {
          "output_type": "stream",
          "name": "stderr",
          "text": [
            "Processing Captions:  99%|█████████▉| 1023/1032 [03:10<00:01,  4.96it/s]"
          ]
        },
        {
          "output_type": "stream",
          "name": "stdout",
          "text": [
            "An error occurred: Error code: 429 - {'error': {'message': 'You exceeded your current quota, please check your plan and billing details. For more information on this error, read the docs: https://platform.openai.com/docs/guides/error-codes/api-errors.', 'type': 'insufficient_quota', 'param': None, 'code': 'insufficient_quota'}}\n",
            "An error occurred: 'NoneType' object has no attribute 'replace'\n",
            "Error processing row Pm6vRblouxc: cannot unpack non-iterable NoneType object\n",
            "An error occurred: Error code: 429 - {'error': {'message': 'You exceeded your current quota, please check your plan and billing details. For more information on this error, read the docs: https://platform.openai.com/docs/guides/error-codes/api-errors.', 'type': 'insufficient_quota', 'param': None, 'code': 'insufficient_quota'}}\n",
            "An error occurred: 'NoneType' object has no attribute 'replace'\n",
            "Error processing row dl1ljByerd8: cannot unpack non-iterable NoneType object\n"
          ]
        },
        {
          "output_type": "stream",
          "name": "stderr",
          "text": [
            "Processing Captions:  99%|█████████▉| 1025/1032 [03:10<00:01,  5.30it/s]"
          ]
        },
        {
          "output_type": "stream",
          "name": "stdout",
          "text": [
            "An error occurred: Error code: 429 - {'error': {'message': 'You exceeded your current quota, please check your plan and billing details. For more information on this error, read the docs: https://platform.openai.com/docs/guides/error-codes/api-errors.', 'type': 'insufficient_quota', 'param': None, 'code': 'insufficient_quota'}}\n",
            "An error occurred: 'NoneType' object has no attribute 'replace'\n",
            "Error processing row CphwhKgYHaM: cannot unpack non-iterable NoneType object\n",
            "An error occurred: Error code: 429 - {'error': {'message': 'You exceeded your current quota, please check your plan and billing details. For more information on this error, read the docs: https://platform.openai.com/docs/guides/error-codes/api-errors.', 'type': 'insufficient_quota', 'param': None, 'code': 'insufficient_quota'}}\n",
            "An error occurred: 'NoneType' object has no attribute 'replace'\n",
            "Error processing row OjEG808MfF4: cannot unpack non-iterable NoneType object\n"
          ]
        },
        {
          "output_type": "stream",
          "name": "stderr",
          "text": [
            "\rProcessing Captions:  99%|█████████▉| 1026/1032 [03:10<00:01,  5.35it/s]"
          ]
        },
        {
          "output_type": "stream",
          "name": "stdout",
          "text": [
            "An error occurred: Error code: 429 - {'error': {'message': 'You exceeded your current quota, please check your plan and billing details. For more information on this error, read the docs: https://platform.openai.com/docs/guides/error-codes/api-errors.', 'type': 'insufficient_quota', 'param': None, 'code': 'insufficient_quota'}}\n",
            "An error occurred: 'NoneType' object has no attribute 'replace'\n",
            "Error processing row 0F-Z0zF1504: cannot unpack non-iterable NoneType object\n",
            "An error occurred: Error code: 429 - {'error': {'message': 'You exceeded your current quota, please check your plan and billing details. For more information on this error, read the docs: https://platform.openai.com/docs/guides/error-codes/api-errors.', 'type': 'insufficient_quota', 'param': None, 'code': 'insufficient_quota'}}\n",
            "An error occurred: 'NoneType' object has no attribute 'replace'\n",
            "Error processing row wj4ukZFNEgs: cannot unpack non-iterable NoneType object\n",
            "An error occurred: Error code: 429 - {'error': {'message': 'You exceeded your current quota, please check your plan and billing details. For more information on this error, read the docs: https://platform.openai.com/docs/guides/error-codes/api-errors.', 'type': 'insufficient_quota', 'param': None, 'code': 'insufficient_quota'}}\n",
            "An error occurred: 'NoneType' object has no attribute 'replace'\n",
            "Error processing row Grtmre_r9yI: cannot unpack non-iterable NoneType object\n"
          ]
        },
        {
          "output_type": "stream",
          "name": "stderr",
          "text": [
            "\rProcessing Captions: 100%|█████████▉| 1029/1032 [03:10<00:00,  6.16it/s]"
          ]
        },
        {
          "output_type": "stream",
          "name": "stdout",
          "text": [
            "An error occurred: Error code: 429 - {'error': {'message': 'You exceeded your current quota, please check your plan and billing details. For more information on this error, read the docs: https://platform.openai.com/docs/guides/error-codes/api-errors.', 'type': 'insufficient_quota', 'param': None, 'code': 'insufficient_quota'}}\n",
            "An error occurred: 'NoneType' object has no attribute 'replace'\n",
            "Error processing row C8VECv8kicU: cannot unpack non-iterable NoneType object\n"
          ]
        },
        {
          "output_type": "stream",
          "name": "stderr",
          "text": [
            "\rProcessing Captions: 100%|█████████▉| 1030/1032 [03:11<00:00,  5.78it/s]"
          ]
        },
        {
          "output_type": "stream",
          "name": "stdout",
          "text": [
            "An error occurred: Error code: 429 - {'error': {'message': 'You exceeded your current quota, please check your plan and billing details. For more information on this error, read the docs: https://platform.openai.com/docs/guides/error-codes/api-errors.', 'type': 'insufficient_quota', 'param': None, 'code': 'insufficient_quota'}}\n",
            "An error occurred: 'NoneType' object has no attribute 'replace'\n",
            "Error processing row D-p9s8y2z_U: cannot unpack non-iterable NoneType object\n"
          ]
        },
        {
          "output_type": "stream",
          "name": "stderr",
          "text": [
            "\rProcessing Captions: 100%|█████████▉| 1031/1032 [03:11<00:00,  4.40it/s]"
          ]
        },
        {
          "output_type": "stream",
          "name": "stdout",
          "text": [
            "An error occurred: Error code: 429 - {'error': {'message': 'You exceeded your current quota, please check your plan and billing details. For more information on this error, read the docs: https://platform.openai.com/docs/guides/error-codes/api-errors.', 'type': 'insufficient_quota', 'param': None, 'code': 'insufficient_quota'}}\n",
            "An error occurred: 'NoneType' object has no attribute 'replace'\n",
            "Error processing row qtnE1hnCD0M: cannot unpack non-iterable NoneType object\n"
          ]
        },
        {
          "output_type": "stream",
          "name": "stderr",
          "text": [
            "Processing Captions: 100%|██████████| 1032/1032 [03:11<00:00,  5.38it/s]"
          ]
        },
        {
          "output_type": "stream",
          "name": "stdout",
          "text": [
            "An error occurred: Error code: 429 - {'error': {'message': 'You exceeded your current quota, please check your plan and billing details. For more information on this error, read the docs: https://platform.openai.com/docs/guides/error-codes/api-errors.', 'type': 'insufficient_quota', 'param': None, 'code': 'insufficient_quota'}}\n",
            "An error occurred: 'NoneType' object has no attribute 'replace'\n",
            "Error processing row gD6UoStqCsg: cannot unpack non-iterable NoneType object\n"
          ]
        },
        {
          "output_type": "stream",
          "name": "stderr",
          "text": [
            "\n"
          ]
        }
      ]
    },
    {
      "cell_type": "code",
      "source": [
        "inference_table = inference_table.dropna()"
      ],
      "metadata": {
        "id": "J3VQQlKBmOtC"
      },
      "execution_count": null,
      "outputs": []
    },
    {
      "cell_type": "code",
      "source": [
        "inference_table.to_csv(\"inference_analysis.csv\")"
      ],
      "metadata": {
        "id": "NNsz1_0vmQLF"
      },
      "execution_count": null,
      "outputs": []
    },
    {
      "cell_type": "code",
      "source": [],
      "metadata": {
        "id": "zh2fPr5fnTpq"
      },
      "execution_count": null,
      "outputs": []
    },
    {
      "cell_type": "code",
      "source": [
        "def subjective_objective(df):\n",
        "  subjective_lengths = []\n",
        "  objective_lengths = []\n",
        "  for index in range(len(df)):\n",
        "    caption_length = len(df.iloc[index][\"caption\"].split())\n",
        "    objective_percentage = len(df.iloc[index][\"objective_words\"])/caption_length\n",
        "    subjective_percentage = len(df.iloc[index][\"subjective_words\"])/caption_length\n",
        "    subjective_lengths.append(subjective_percentage)\n",
        "    objective_lengths.append(objective_percentage)\n",
        "\n",
        "  return objective_lengths, subjective_lengths\n",
        "\n"
      ],
      "metadata": {
        "id": "kDCXw5IVnWQ2"
      },
      "execution_count": null,
      "outputs": []
    },
    {
      "cell_type": "code",
      "source": [
        "baseline = subjective_objective(our_table)"
      ],
      "metadata": {
        "id": "2oDvRNJ3nfDJ"
      },
      "execution_count": null,
      "outputs": []
    },
    {
      "cell_type": "code",
      "source": [
        "import numpy as np"
      ],
      "metadata": {
        "id": "VxN0vQASoIxp"
      },
      "execution_count": null,
      "outputs": []
    },
    {
      "cell_type": "code",
      "source": [
        "print({\n",
        "    \"Percent of words describing objective features for ground truth\": np.mean(baseline[0]),\n",
        "    \"Percent of words describing subjective features for ground truth\": np.mean(baseline[1])\n",
        "\n",
        "\n",
        "})"
      ],
      "metadata": {
        "colab": {
          "base_uri": "https://localhost:8080/"
        },
        "id": "bgywa6VFoBmr",
        "outputId": "da4ba89f-0729-4761-caf2-a6ececa71be8"
      },
      "execution_count": null,
      "outputs": [
        {
          "output_type": "stream",
          "name": "stdout",
          "text": [
            "{'Percent of words describing objective features for ground truth': 0.030404314187460063, 'Percent of words describing subjective features for ground truth': 0.02638016679681101}\n"
          ]
        }
      ]
    },
    {
      "cell_type": "code",
      "source": [
        "validation = subjective_objective(inference_table)"
      ],
      "metadata": {
        "id": "L2R5BPZ8oWTz"
      },
      "execution_count": null,
      "outputs": []
    },
    {
      "cell_type": "code",
      "source": [
        "print({\n",
        "    \"Percent of words describing objective features for generated\": np.mean(validation[0]),\n",
        "    \"Percent of words describing subjective features for generated\": np.mean(validation[1])\n",
        "\n",
        "\n",
        "})"
      ],
      "metadata": {
        "colab": {
          "base_uri": "https://localhost:8080/"
        },
        "id": "qpqcd6T5oCRJ",
        "outputId": "2e333602-d54d-477e-8f86-8685df1743b5"
      },
      "execution_count": null,
      "outputs": [
        {
          "output_type": "stream",
          "name": "stdout",
          "text": [
            "{'Percent of words describing objective features for generated': 0.03795286729117617, 'Percent of words describing subjective features for generated': 0.028890143447149994}\n"
          ]
        }
      ]
    },
    {
      "cell_type": "code",
      "source": [
        "inference_table"
      ],
      "metadata": {
        "colab": {
          "base_uri": "https://localhost:8080/",
          "height": 423
        },
        "id": "69ZNkMmJoZlK",
        "outputId": "eb1ecdf8-1d81-4f53-c256-aaedfb15352d"
      },
      "execution_count": null,
      "outputs": [
        {
          "output_type": "execute_result",
          "data": {
            "text/plain": [
              "              id                                            caption  \\\n",
              "0    EUmfsCvmkgo  This is a kids music piece in the style of pop...   \n",
              "1    Wu3LKQG1fwU  The low quality recording features a live perf...   \n",
              "2    8jDanS4ZzRc  This is a classical music piece. It is an inst...   \n",
              "3    lTAfSpsyTSI  This symphonic song starts off with the melody...   \n",
              "4    LbPRGDwlfqs  The low quality recording features a soft rock...   \n",
              "..           ...                                                ...   \n",
              "960  Z-G7nL9tiws  The low quality recording features an uptempo ...   \n",
              "961  1JwoLPCIGhs  The low quality recording features a cover of ...   \n",
              "962  7Mv4eKPe850  The low quality recording features a live perf...   \n",
              "963  aBXntqgPo6Q  This is an instrument showcase jam. There is a...   \n",
              "964  E6B81rrUlnE  This is an excerpt from a movie soundtrack. Th...   \n",
              "\n",
              "    objective_words subjective_words  \n",
              "0            [kids]      [pop, punk]  \n",
              "1    [low, quality]           [live]  \n",
              "2       [classical]   [instrumental]  \n",
              "3       [symphonic]     [instrument]  \n",
              "4    [low, quality]     [soft, rock]  \n",
              "..              ...              ...  \n",
              "960  [low, quality]        [uptempo]  \n",
              "961  [low, quality]      [recording]  \n",
              "962  [low, quality]           [live]  \n",
              "963    [instrument]           [male]  \n",
              "964       [\"synth\"]    [\"cinematic\"]  \n",
              "\n",
              "[965 rows x 4 columns]"
            ],
            "text/html": [
              "\n",
              "  <div id=\"df-07a561f7-9b6b-4e46-a265-e2ed97977629\" class=\"colab-df-container\">\n",
              "    <div>\n",
              "<style scoped>\n",
              "    .dataframe tbody tr th:only-of-type {\n",
              "        vertical-align: middle;\n",
              "    }\n",
              "\n",
              "    .dataframe tbody tr th {\n",
              "        vertical-align: top;\n",
              "    }\n",
              "\n",
              "    .dataframe thead th {\n",
              "        text-align: right;\n",
              "    }\n",
              "</style>\n",
              "<table border=\"1\" class=\"dataframe\">\n",
              "  <thead>\n",
              "    <tr style=\"text-align: right;\">\n",
              "      <th></th>\n",
              "      <th>id</th>\n",
              "      <th>caption</th>\n",
              "      <th>objective_words</th>\n",
              "      <th>subjective_words</th>\n",
              "    </tr>\n",
              "  </thead>\n",
              "  <tbody>\n",
              "    <tr>\n",
              "      <th>0</th>\n",
              "      <td>EUmfsCvmkgo</td>\n",
              "      <td>This is a kids music piece in the style of pop...</td>\n",
              "      <td>[kids]</td>\n",
              "      <td>[pop, punk]</td>\n",
              "    </tr>\n",
              "    <tr>\n",
              "      <th>1</th>\n",
              "      <td>Wu3LKQG1fwU</td>\n",
              "      <td>The low quality recording features a live perf...</td>\n",
              "      <td>[low, quality]</td>\n",
              "      <td>[live]</td>\n",
              "    </tr>\n",
              "    <tr>\n",
              "      <th>2</th>\n",
              "      <td>8jDanS4ZzRc</td>\n",
              "      <td>This is a classical music piece. It is an inst...</td>\n",
              "      <td>[classical]</td>\n",
              "      <td>[instrumental]</td>\n",
              "    </tr>\n",
              "    <tr>\n",
              "      <th>3</th>\n",
              "      <td>lTAfSpsyTSI</td>\n",
              "      <td>This symphonic song starts off with the melody...</td>\n",
              "      <td>[symphonic]</td>\n",
              "      <td>[instrument]</td>\n",
              "    </tr>\n",
              "    <tr>\n",
              "      <th>4</th>\n",
              "      <td>LbPRGDwlfqs</td>\n",
              "      <td>The low quality recording features a soft rock...</td>\n",
              "      <td>[low, quality]</td>\n",
              "      <td>[soft, rock]</td>\n",
              "    </tr>\n",
              "    <tr>\n",
              "      <th>...</th>\n",
              "      <td>...</td>\n",
              "      <td>...</td>\n",
              "      <td>...</td>\n",
              "      <td>...</td>\n",
              "    </tr>\n",
              "    <tr>\n",
              "      <th>960</th>\n",
              "      <td>Z-G7nL9tiws</td>\n",
              "      <td>The low quality recording features an uptempo ...</td>\n",
              "      <td>[low, quality]</td>\n",
              "      <td>[uptempo]</td>\n",
              "    </tr>\n",
              "    <tr>\n",
              "      <th>961</th>\n",
              "      <td>1JwoLPCIGhs</td>\n",
              "      <td>The low quality recording features a cover of ...</td>\n",
              "      <td>[low, quality]</td>\n",
              "      <td>[recording]</td>\n",
              "    </tr>\n",
              "    <tr>\n",
              "      <th>962</th>\n",
              "      <td>7Mv4eKPe850</td>\n",
              "      <td>The low quality recording features a live perf...</td>\n",
              "      <td>[low, quality]</td>\n",
              "      <td>[live]</td>\n",
              "    </tr>\n",
              "    <tr>\n",
              "      <th>963</th>\n",
              "      <td>aBXntqgPo6Q</td>\n",
              "      <td>This is an instrument showcase jam. There is a...</td>\n",
              "      <td>[instrument]</td>\n",
              "      <td>[male]</td>\n",
              "    </tr>\n",
              "    <tr>\n",
              "      <th>964</th>\n",
              "      <td>E6B81rrUlnE</td>\n",
              "      <td>This is an excerpt from a movie soundtrack. Th...</td>\n",
              "      <td>[\"synth\"]</td>\n",
              "      <td>[\"cinematic\"]</td>\n",
              "    </tr>\n",
              "  </tbody>\n",
              "</table>\n",
              "<p>965 rows × 4 columns</p>\n",
              "</div>\n",
              "    <div class=\"colab-df-buttons\">\n",
              "\n",
              "  <div class=\"colab-df-container\">\n",
              "    <button class=\"colab-df-convert\" onclick=\"convertToInteractive('df-07a561f7-9b6b-4e46-a265-e2ed97977629')\"\n",
              "            title=\"Convert this dataframe to an interactive table.\"\n",
              "            style=\"display:none;\">\n",
              "\n",
              "  <svg xmlns=\"http://www.w3.org/2000/svg\" height=\"24px\" viewBox=\"0 -960 960 960\">\n",
              "    <path d=\"M120-120v-720h720v720H120Zm60-500h600v-160H180v160Zm220 220h160v-160H400v160Zm0 220h160v-160H400v160ZM180-400h160v-160H180v160Zm440 0h160v-160H620v160ZM180-180h160v-160H180v160Zm440 0h160v-160H620v160Z\"/>\n",
              "  </svg>\n",
              "    </button>\n",
              "\n",
              "  <style>\n",
              "    .colab-df-container {\n",
              "      display:flex;\n",
              "      gap: 12px;\n",
              "    }\n",
              "\n",
              "    .colab-df-convert {\n",
              "      background-color: #E8F0FE;\n",
              "      border: none;\n",
              "      border-radius: 50%;\n",
              "      cursor: pointer;\n",
              "      display: none;\n",
              "      fill: #1967D2;\n",
              "      height: 32px;\n",
              "      padding: 0 0 0 0;\n",
              "      width: 32px;\n",
              "    }\n",
              "\n",
              "    .colab-df-convert:hover {\n",
              "      background-color: #E2EBFA;\n",
              "      box-shadow: 0px 1px 2px rgba(60, 64, 67, 0.3), 0px 1px 3px 1px rgba(60, 64, 67, 0.15);\n",
              "      fill: #174EA6;\n",
              "    }\n",
              "\n",
              "    .colab-df-buttons div {\n",
              "      margin-bottom: 4px;\n",
              "    }\n",
              "\n",
              "    [theme=dark] .colab-df-convert {\n",
              "      background-color: #3B4455;\n",
              "      fill: #D2E3FC;\n",
              "    }\n",
              "\n",
              "    [theme=dark] .colab-df-convert:hover {\n",
              "      background-color: #434B5C;\n",
              "      box-shadow: 0px 1px 3px 1px rgba(0, 0, 0, 0.15);\n",
              "      filter: drop-shadow(0px 1px 2px rgba(0, 0, 0, 0.3));\n",
              "      fill: #FFFFFF;\n",
              "    }\n",
              "  </style>\n",
              "\n",
              "    <script>\n",
              "      const buttonEl =\n",
              "        document.querySelector('#df-07a561f7-9b6b-4e46-a265-e2ed97977629 button.colab-df-convert');\n",
              "      buttonEl.style.display =\n",
              "        google.colab.kernel.accessAllowed ? 'block' : 'none';\n",
              "\n",
              "      async function convertToInteractive(key) {\n",
              "        const element = document.querySelector('#df-07a561f7-9b6b-4e46-a265-e2ed97977629');\n",
              "        const dataTable =\n",
              "          await google.colab.kernel.invokeFunction('convertToInteractive',\n",
              "                                                    [key], {});\n",
              "        if (!dataTable) return;\n",
              "\n",
              "        const docLinkHtml = 'Like what you see? Visit the ' +\n",
              "          '<a target=\"_blank\" href=https://colab.research.google.com/notebooks/data_table.ipynb>data table notebook</a>'\n",
              "          + ' to learn more about interactive tables.';\n",
              "        element.innerHTML = '';\n",
              "        dataTable['output_type'] = 'display_data';\n",
              "        await google.colab.output.renderOutput(dataTable, element);\n",
              "        const docLink = document.createElement('div');\n",
              "        docLink.innerHTML = docLinkHtml;\n",
              "        element.appendChild(docLink);\n",
              "      }\n",
              "    </script>\n",
              "  </div>\n",
              "\n",
              "\n",
              "<div id=\"df-82e38bf8-60a3-44c7-92a6-4a7de46e8d04\">\n",
              "  <button class=\"colab-df-quickchart\" onclick=\"quickchart('df-82e38bf8-60a3-44c7-92a6-4a7de46e8d04')\"\n",
              "            title=\"Suggest charts\"\n",
              "            style=\"display:none;\">\n",
              "\n",
              "<svg xmlns=\"http://www.w3.org/2000/svg\" height=\"24px\"viewBox=\"0 0 24 24\"\n",
              "     width=\"24px\">\n",
              "    <g>\n",
              "        <path d=\"M19 3H5c-1.1 0-2 .9-2 2v14c0 1.1.9 2 2 2h14c1.1 0 2-.9 2-2V5c0-1.1-.9-2-2-2zM9 17H7v-7h2v7zm4 0h-2V7h2v10zm4 0h-2v-4h2v4z\"/>\n",
              "    </g>\n",
              "</svg>\n",
              "  </button>\n",
              "\n",
              "<style>\n",
              "  .colab-df-quickchart {\n",
              "      --bg-color: #E8F0FE;\n",
              "      --fill-color: #1967D2;\n",
              "      --hover-bg-color: #E2EBFA;\n",
              "      --hover-fill-color: #174EA6;\n",
              "      --disabled-fill-color: #AAA;\n",
              "      --disabled-bg-color: #DDD;\n",
              "  }\n",
              "\n",
              "  [theme=dark] .colab-df-quickchart {\n",
              "      --bg-color: #3B4455;\n",
              "      --fill-color: #D2E3FC;\n",
              "      --hover-bg-color: #434B5C;\n",
              "      --hover-fill-color: #FFFFFF;\n",
              "      --disabled-bg-color: #3B4455;\n",
              "      --disabled-fill-color: #666;\n",
              "  }\n",
              "\n",
              "  .colab-df-quickchart {\n",
              "    background-color: var(--bg-color);\n",
              "    border: none;\n",
              "    border-radius: 50%;\n",
              "    cursor: pointer;\n",
              "    display: none;\n",
              "    fill: var(--fill-color);\n",
              "    height: 32px;\n",
              "    padding: 0;\n",
              "    width: 32px;\n",
              "  }\n",
              "\n",
              "  .colab-df-quickchart:hover {\n",
              "    background-color: var(--hover-bg-color);\n",
              "    box-shadow: 0 1px 2px rgba(60, 64, 67, 0.3), 0 1px 3px 1px rgba(60, 64, 67, 0.15);\n",
              "    fill: var(--button-hover-fill-color);\n",
              "  }\n",
              "\n",
              "  .colab-df-quickchart-complete:disabled,\n",
              "  .colab-df-quickchart-complete:disabled:hover {\n",
              "    background-color: var(--disabled-bg-color);\n",
              "    fill: var(--disabled-fill-color);\n",
              "    box-shadow: none;\n",
              "  }\n",
              "\n",
              "  .colab-df-spinner {\n",
              "    border: 2px solid var(--fill-color);\n",
              "    border-color: transparent;\n",
              "    border-bottom-color: var(--fill-color);\n",
              "    animation:\n",
              "      spin 1s steps(1) infinite;\n",
              "  }\n",
              "\n",
              "  @keyframes spin {\n",
              "    0% {\n",
              "      border-color: transparent;\n",
              "      border-bottom-color: var(--fill-color);\n",
              "      border-left-color: var(--fill-color);\n",
              "    }\n",
              "    20% {\n",
              "      border-color: transparent;\n",
              "      border-left-color: var(--fill-color);\n",
              "      border-top-color: var(--fill-color);\n",
              "    }\n",
              "    30% {\n",
              "      border-color: transparent;\n",
              "      border-left-color: var(--fill-color);\n",
              "      border-top-color: var(--fill-color);\n",
              "      border-right-color: var(--fill-color);\n",
              "    }\n",
              "    40% {\n",
              "      border-color: transparent;\n",
              "      border-right-color: var(--fill-color);\n",
              "      border-top-color: var(--fill-color);\n",
              "    }\n",
              "    60% {\n",
              "      border-color: transparent;\n",
              "      border-right-color: var(--fill-color);\n",
              "    }\n",
              "    80% {\n",
              "      border-color: transparent;\n",
              "      border-right-color: var(--fill-color);\n",
              "      border-bottom-color: var(--fill-color);\n",
              "    }\n",
              "    90% {\n",
              "      border-color: transparent;\n",
              "      border-bottom-color: var(--fill-color);\n",
              "    }\n",
              "  }\n",
              "</style>\n",
              "\n",
              "  <script>\n",
              "    async function quickchart(key) {\n",
              "      const quickchartButtonEl =\n",
              "        document.querySelector('#' + key + ' button');\n",
              "      quickchartButtonEl.disabled = true;  // To prevent multiple clicks.\n",
              "      quickchartButtonEl.classList.add('colab-df-spinner');\n",
              "      try {\n",
              "        const charts = await google.colab.kernel.invokeFunction(\n",
              "            'suggestCharts', [key], {});\n",
              "      } catch (error) {\n",
              "        console.error('Error during call to suggestCharts:', error);\n",
              "      }\n",
              "      quickchartButtonEl.classList.remove('colab-df-spinner');\n",
              "      quickchartButtonEl.classList.add('colab-df-quickchart-complete');\n",
              "    }\n",
              "    (() => {\n",
              "      let quickchartButtonEl =\n",
              "        document.querySelector('#df-82e38bf8-60a3-44c7-92a6-4a7de46e8d04 button');\n",
              "      quickchartButtonEl.style.display =\n",
              "        google.colab.kernel.accessAllowed ? 'block' : 'none';\n",
              "    })();\n",
              "  </script>\n",
              "</div>\n",
              "\n",
              "  <div id=\"id_669255ff-31c4-4178-9d63-84c3a985b477\">\n",
              "    <style>\n",
              "      .colab-df-generate {\n",
              "        background-color: #E8F0FE;\n",
              "        border: none;\n",
              "        border-radius: 50%;\n",
              "        cursor: pointer;\n",
              "        display: none;\n",
              "        fill: #1967D2;\n",
              "        height: 32px;\n",
              "        padding: 0 0 0 0;\n",
              "        width: 32px;\n",
              "      }\n",
              "\n",
              "      .colab-df-generate:hover {\n",
              "        background-color: #E2EBFA;\n",
              "        box-shadow: 0px 1px 2px rgba(60, 64, 67, 0.3), 0px 1px 3px 1px rgba(60, 64, 67, 0.15);\n",
              "        fill: #174EA6;\n",
              "      }\n",
              "\n",
              "      [theme=dark] .colab-df-generate {\n",
              "        background-color: #3B4455;\n",
              "        fill: #D2E3FC;\n",
              "      }\n",
              "\n",
              "      [theme=dark] .colab-df-generate:hover {\n",
              "        background-color: #434B5C;\n",
              "        box-shadow: 0px 1px 3px 1px rgba(0, 0, 0, 0.15);\n",
              "        filter: drop-shadow(0px 1px 2px rgba(0, 0, 0, 0.3));\n",
              "        fill: #FFFFFF;\n",
              "      }\n",
              "    </style>\n",
              "    <button class=\"colab-df-generate\" onclick=\"generateWithVariable('inference_table')\"\n",
              "            title=\"Generate code using this dataframe.\"\n",
              "            style=\"display:none;\">\n",
              "\n",
              "  <svg xmlns=\"http://www.w3.org/2000/svg\" height=\"24px\"viewBox=\"0 0 24 24\"\n",
              "       width=\"24px\">\n",
              "    <path d=\"M7,19H8.4L18.45,9,17,7.55,7,17.6ZM5,21V16.75L18.45,3.32a2,2,0,0,1,2.83,0l1.4,1.43a1.91,1.91,0,0,1,.58,1.4,1.91,1.91,0,0,1-.58,1.4L9.25,21ZM18.45,9,17,7.55Zm-12,3A5.31,5.31,0,0,0,4.9,8.1,5.31,5.31,0,0,0,1,6.5,5.31,5.31,0,0,0,4.9,4.9,5.31,5.31,0,0,0,6.5,1,5.31,5.31,0,0,0,8.1,4.9,5.31,5.31,0,0,0,12,6.5,5.46,5.46,0,0,0,6.5,12Z\"/>\n",
              "  </svg>\n",
              "    </button>\n",
              "    <script>\n",
              "      (() => {\n",
              "      const buttonEl =\n",
              "        document.querySelector('#id_669255ff-31c4-4178-9d63-84c3a985b477 button.colab-df-generate');\n",
              "      buttonEl.style.display =\n",
              "        google.colab.kernel.accessAllowed ? 'block' : 'none';\n",
              "\n",
              "      buttonEl.onclick = () => {\n",
              "        google.colab.notebook.generateWithVariable('inference_table');\n",
              "      }\n",
              "      })();\n",
              "    </script>\n",
              "  </div>\n",
              "\n",
              "    </div>\n",
              "  </div>\n"
            ],
            "application/vnd.google.colaboratory.intrinsic+json": {
              "type": "dataframe",
              "variable_name": "inference_table",
              "summary": "{\n  \"name\": \"inference_table\",\n  \"rows\": 965,\n  \"fields\": [\n    {\n      \"column\": \"id\",\n      \"properties\": {\n        \"dtype\": \"string\",\n        \"num_unique_values\": 965,\n        \"samples\": [\n          \"e4R2O7XpIXU\",\n          \"JPZlyvPNZj4\",\n          \"tUSnod37b9Q\"\n        ],\n        \"semantic_type\": \"\",\n        \"description\": \"\"\n      }\n    },\n    {\n      \"column\": \"caption\",\n      \"properties\": {\n        \"dtype\": \"string\",\n        \"num_unique_values\": 960,\n        \"samples\": [\n          \"The low quality recording features a reggae song that consists of passionate male vocal singing over shimmering hi hats, snappy rimshots, funky electric guitar chords, groovy bass, synth pad chords and a reverberant riser. It sounds emotional, passionate and addictive.\",\n          \"The low quality recording features a low thumping rhythm, followed by short strings melody and low percussive foley effect. It sounds passionate and emotional.\",\n          \"This is an instrumental progressive rock music piece. There is an electric guitar playing a complex solo with rapid procession of notes using the tapping technique. There is a keyboard playing a simple, groovy tune. The atmosphere is calm and easygoing. This piece could be used in the soundtrack of a drama movie or a TV show that takes place in a rural USA.\"\n        ],\n        \"semantic_type\": \"\",\n        \"description\": \"\"\n      }\n    },\n    {\n      \"column\": \"objective_words\",\n      \"properties\": {\n        \"dtype\": \"object\",\n        \"semantic_type\": \"\",\n        \"description\": \"\"\n      }\n    },\n    {\n      \"column\": \"subjective_words\",\n      \"properties\": {\n        \"dtype\": \"object\",\n        \"semantic_type\": \"\",\n        \"description\": \"\"\n      }\n    }\n  ]\n}"
            }
          },
          "metadata": {},
          "execution_count": 72
        }
      ]
    },
    {
      "cell_type": "markdown",
      "source": [
        "## Calculating whether or not the difference is significant"
      ],
      "metadata": {
        "id": "XlzGKvdvpCc4"
      }
    },
    {
      "cell_type": "code",
      "source": [
        "pooled_proportion = ((np.mean(baseline[1]) * len(baseline[1])) + (np.mean(validation[1]) * len(validation[1]))) / (len(baseline[1]) + len(validation[1]))\n"
      ],
      "metadata": {
        "id": "fuRKJytJoZtY"
      },
      "execution_count": null,
      "outputs": []
    },
    {
      "cell_type": "code",
      "source": [
        "pooled_proportion"
      ],
      "metadata": {
        "colab": {
          "base_uri": "https://localhost:8080/"
        },
        "id": "g5oyzHpIpoMZ",
        "outputId": "e3e6d6c3-91a1-4c2a-c5d9-f7c4b9ba0016"
      },
      "execution_count": null,
      "outputs": [
        {
          "output_type": "execute_result",
          "data": {
            "text/plain": [
              "0.02675360612267859"
            ]
          },
          "metadata": {},
          "execution_count": 81
        }
      ]
    },
    {
      "cell_type": "code",
      "source": [
        "z_score = (np.mean(baseline[1]) - np.mean(validation[1])) / np.sqrt(pooled_proportion * (1 - pooled_proportion) * ((1/len(baseline[1])) + (1/len(validation[1]))))\n"
      ],
      "metadata": {
        "id": "sR2QHk3UposK"
      },
      "execution_count": null,
      "outputs": []
    },
    {
      "cell_type": "code",
      "source": [
        "z_score"
      ],
      "metadata": {
        "colab": {
          "base_uri": "https://localhost:8080/"
        },
        "id": "cjE4jft4qPEA",
        "outputId": "c0ba7d3b-4914-4ab4-c686-ad71be947321"
      },
      "execution_count": null,
      "outputs": [
        {
          "output_type": "execute_result",
          "data": {
            "text/plain": [
              "-0.4458114036838248"
            ]
          },
          "metadata": {},
          "execution_count": 89
        }
      ]
    },
    {
      "cell_type": "markdown",
      "source": [
        "## Not statistically significant, now trying objective"
      ],
      "metadata": {
        "id": "0Y8wj083q6lS"
      }
    },
    {
      "cell_type": "code",
      "source": [
        "pooled_proportion = ((np.mean(baseline[0]) * len(baseline[0])) + (np.mean(validation[0]) * len(validation[0]))) / (len(baseline[0]) + len(validation[0]))\n"
      ],
      "metadata": {
        "id": "LylavkiKrBnV"
      },
      "execution_count": null,
      "outputs": []
    },
    {
      "cell_type": "code",
      "source": [
        "z_score = (np.mean(baseline[0]) - np.mean(validation[0])) / np.sqrt(pooled_proportion * (1 - pooled_proportion) * ((1/len(baseline[0])) + (1/len(validation[0]))))\n"
      ],
      "metadata": {
        "id": "lCsxaEB7rFtc"
      },
      "execution_count": null,
      "outputs": []
    },
    {
      "cell_type": "code",
      "source": [
        "z_score"
      ],
      "metadata": {
        "colab": {
          "base_uri": "https://localhost:8080/"
        },
        "id": "ECQAckmVrSpg",
        "outputId": "773b8622-7460-440e-da31-3d70eb2f8819"
      },
      "execution_count": null,
      "outputs": [
        {
          "output_type": "execute_result",
          "data": {
            "text/plain": [
              "-1.2381122070567319"
            ]
          },
          "metadata": {},
          "execution_count": 95
        }
      ]
    },
    {
      "cell_type": "code",
      "source": [
        "combined_table = our_table.merge(inference_table, on=\"id\").rename({\"caption_x\":\"caption_truth\",\"objective_words_x\":\"objective_words_truth\",\"subjective_words_x\":\"subjective_words_truth\",\"caption_y\":\"caption_generated\",\"objective_words_y\":\"objective_words_generated\",\"subjective_words_y\":\"subjective_words_generated\"},axis=1)"
      ],
      "metadata": {
        "id": "6BTTDyuCqPkF"
      },
      "execution_count": null,
      "outputs": []
    },
    {
      "cell_type": "code",
      "source": [
        "combined_table"
      ],
      "metadata": {
        "colab": {
          "base_uri": "https://localhost:8080/",
          "height": 423
        },
        "id": "ZjdiHriCq1hK",
        "outputId": "76bda67c-9332-4df2-d46c-74010b5c4908"
      },
      "execution_count": null,
      "outputs": [
        {
          "output_type": "execute_result",
          "data": {
            "text/plain": [
              "              id                                      caption_truth  \\\n",
              "0    -m9pH0WXQto  The Electro Pop song features a flat female vo...   \n",
              "1    05JAmKFVy44  The low quality recording features a kids song...   \n",
              "2    05OJDYeHLMc  This audio contains very strong deep percussiv...   \n",
              "3    0Gxn9FtaJFc  This is a rock music piece with a male vocal. ...   \n",
              "4    0JbGxIR8JTk  Afrobeat inspired music with an island flavor....   \n",
              "..           ...                                                ...   \n",
              "960  ynWPvcGXFrM  Violins are playing a lead melody underlined b...   \n",
              "961  z9hRQiJMnIw  This heavy metal song features a high pitched ...   \n",
              "962  zPhuyMYy9EI  A high pitched long note is playing along with...   \n",
              "963  zaEdWwSamS0  Different melodies are being played by bell so...   \n",
              "964  zfkPKRn8ah8  This is a dancehall music piece. There is a ma...   \n",
              "\n",
              "    objective_words_truth subjective_words_truth  \\\n",
              "0          [Electro, Pop]               [female]   \n",
              "1          [low, quality]                 [kids]   \n",
              "2            [percussive]             [e-guitar]   \n",
              "3                  [rock]                 [male]   \n",
              "4              [Afrobeat]               [island]   \n",
              "..                    ...                    ...   \n",
              "960             [violins]                 [lead]   \n",
              "961        [heavy, metal]                 [male]   \n",
              "962         [synthesizer]                  [pad]   \n",
              "963                [bell]              [e-piano]   \n",
              "964           [dancehall]                 [male]   \n",
              "\n",
              "                                     caption_generated  \\\n",
              "0    The low quality recording features a pop song ...   \n",
              "1    The low quality recording features a filtered,...   \n",
              "2    This song is a spirited duet in foreign langua...   \n",
              "3    This is an indie rock music piece. There is a ...   \n",
              "4    A male vocalist sings this energetic song. The...   \n",
              "..                                                 ...   \n",
              "960  This is an upbeat, soulful and funky song. It'...   \n",
              "961  This is the live recording of an alternative m...   \n",
              "962  The low quality recording features an ambient ...   \n",
              "963  The low quality recording features a cover of ...   \n",
              "964  The low quality recording features a cover of ...   \n",
              "\n",
              "    objective_words_generated subjective_words_generated  \n",
              "0                       [low]                   [female]  \n",
              "1              [low, quality]                [recording]  \n",
              "2                      [duet]        [foreign, language]  \n",
              "3               [indie, rock]                     [male]  \n",
              "4                      [male]                     [fast]  \n",
              "..                        ...                        ...  \n",
              "960                  [upbeat]                     [fast]  \n",
              "961                    [live]              [alternative]  \n",
              "962            [low, quality]                  [ambient]  \n",
              "963                 [quality]                    [cover]  \n",
              "964            [low, quality]                      [pop]  \n",
              "\n",
              "[965 rows x 7 columns]"
            ],
            "text/html": [
              "\n",
              "  <div id=\"df-eda986a6-3478-41a5-a8ed-2e465ac6e972\" class=\"colab-df-container\">\n",
              "    <div>\n",
              "<style scoped>\n",
              "    .dataframe tbody tr th:only-of-type {\n",
              "        vertical-align: middle;\n",
              "    }\n",
              "\n",
              "    .dataframe tbody tr th {\n",
              "        vertical-align: top;\n",
              "    }\n",
              "\n",
              "    .dataframe thead th {\n",
              "        text-align: right;\n",
              "    }\n",
              "</style>\n",
              "<table border=\"1\" class=\"dataframe\">\n",
              "  <thead>\n",
              "    <tr style=\"text-align: right;\">\n",
              "      <th></th>\n",
              "      <th>id</th>\n",
              "      <th>caption_truth</th>\n",
              "      <th>objective_words_truth</th>\n",
              "      <th>subjective_words_truth</th>\n",
              "      <th>caption_generated</th>\n",
              "      <th>objective_words_generated</th>\n",
              "      <th>subjective_words_generated</th>\n",
              "    </tr>\n",
              "  </thead>\n",
              "  <tbody>\n",
              "    <tr>\n",
              "      <th>0</th>\n",
              "      <td>-m9pH0WXQto</td>\n",
              "      <td>The Electro Pop song features a flat female vo...</td>\n",
              "      <td>[Electro, Pop]</td>\n",
              "      <td>[female]</td>\n",
              "      <td>The low quality recording features a pop song ...</td>\n",
              "      <td>[low]</td>\n",
              "      <td>[female]</td>\n",
              "    </tr>\n",
              "    <tr>\n",
              "      <th>1</th>\n",
              "      <td>05JAmKFVy44</td>\n",
              "      <td>The low quality recording features a kids song...</td>\n",
              "      <td>[low, quality]</td>\n",
              "      <td>[kids]</td>\n",
              "      <td>The low quality recording features a filtered,...</td>\n",
              "      <td>[low, quality]</td>\n",
              "      <td>[recording]</td>\n",
              "    </tr>\n",
              "    <tr>\n",
              "      <th>2</th>\n",
              "      <td>05OJDYeHLMc</td>\n",
              "      <td>This audio contains very strong deep percussiv...</td>\n",
              "      <td>[percussive]</td>\n",
              "      <td>[e-guitar]</td>\n",
              "      <td>This song is a spirited duet in foreign langua...</td>\n",
              "      <td>[duet]</td>\n",
              "      <td>[foreign, language]</td>\n",
              "    </tr>\n",
              "    <tr>\n",
              "      <th>3</th>\n",
              "      <td>0Gxn9FtaJFc</td>\n",
              "      <td>This is a rock music piece with a male vocal. ...</td>\n",
              "      <td>[rock]</td>\n",
              "      <td>[male]</td>\n",
              "      <td>This is an indie rock music piece. There is a ...</td>\n",
              "      <td>[indie, rock]</td>\n",
              "      <td>[male]</td>\n",
              "    </tr>\n",
              "    <tr>\n",
              "      <th>4</th>\n",
              "      <td>0JbGxIR8JTk</td>\n",
              "      <td>Afrobeat inspired music with an island flavor....</td>\n",
              "      <td>[Afrobeat]</td>\n",
              "      <td>[island]</td>\n",
              "      <td>A male vocalist sings this energetic song. The...</td>\n",
              "      <td>[male]</td>\n",
              "      <td>[fast]</td>\n",
              "    </tr>\n",
              "    <tr>\n",
              "      <th>...</th>\n",
              "      <td>...</td>\n",
              "      <td>...</td>\n",
              "      <td>...</td>\n",
              "      <td>...</td>\n",
              "      <td>...</td>\n",
              "      <td>...</td>\n",
              "      <td>...</td>\n",
              "    </tr>\n",
              "    <tr>\n",
              "      <th>960</th>\n",
              "      <td>ynWPvcGXFrM</td>\n",
              "      <td>Violins are playing a lead melody underlined b...</td>\n",
              "      <td>[violins]</td>\n",
              "      <td>[lead]</td>\n",
              "      <td>This is an upbeat, soulful and funky song. It'...</td>\n",
              "      <td>[upbeat]</td>\n",
              "      <td>[fast]</td>\n",
              "    </tr>\n",
              "    <tr>\n",
              "      <th>961</th>\n",
              "      <td>z9hRQiJMnIw</td>\n",
              "      <td>This heavy metal song features a high pitched ...</td>\n",
              "      <td>[heavy, metal]</td>\n",
              "      <td>[male]</td>\n",
              "      <td>This is the live recording of an alternative m...</td>\n",
              "      <td>[live]</td>\n",
              "      <td>[alternative]</td>\n",
              "    </tr>\n",
              "    <tr>\n",
              "      <th>962</th>\n",
              "      <td>zPhuyMYy9EI</td>\n",
              "      <td>A high pitched long note is playing along with...</td>\n",
              "      <td>[synthesizer]</td>\n",
              "      <td>[pad]</td>\n",
              "      <td>The low quality recording features an ambient ...</td>\n",
              "      <td>[low, quality]</td>\n",
              "      <td>[ambient]</td>\n",
              "    </tr>\n",
              "    <tr>\n",
              "      <th>963</th>\n",
              "      <td>zaEdWwSamS0</td>\n",
              "      <td>Different melodies are being played by bell so...</td>\n",
              "      <td>[bell]</td>\n",
              "      <td>[e-piano]</td>\n",
              "      <td>The low quality recording features a cover of ...</td>\n",
              "      <td>[quality]</td>\n",
              "      <td>[cover]</td>\n",
              "    </tr>\n",
              "    <tr>\n",
              "      <th>964</th>\n",
              "      <td>zfkPKRn8ah8</td>\n",
              "      <td>This is a dancehall music piece. There is a ma...</td>\n",
              "      <td>[dancehall]</td>\n",
              "      <td>[male]</td>\n",
              "      <td>The low quality recording features a cover of ...</td>\n",
              "      <td>[low, quality]</td>\n",
              "      <td>[pop]</td>\n",
              "    </tr>\n",
              "  </tbody>\n",
              "</table>\n",
              "<p>965 rows × 7 columns</p>\n",
              "</div>\n",
              "    <div class=\"colab-df-buttons\">\n",
              "\n",
              "  <div class=\"colab-df-container\">\n",
              "    <button class=\"colab-df-convert\" onclick=\"convertToInteractive('df-eda986a6-3478-41a5-a8ed-2e465ac6e972')\"\n",
              "            title=\"Convert this dataframe to an interactive table.\"\n",
              "            style=\"display:none;\">\n",
              "\n",
              "  <svg xmlns=\"http://www.w3.org/2000/svg\" height=\"24px\" viewBox=\"0 -960 960 960\">\n",
              "    <path d=\"M120-120v-720h720v720H120Zm60-500h600v-160H180v160Zm220 220h160v-160H400v160Zm0 220h160v-160H400v160ZM180-400h160v-160H180v160Zm440 0h160v-160H620v160ZM180-180h160v-160H180v160Zm440 0h160v-160H620v160Z\"/>\n",
              "  </svg>\n",
              "    </button>\n",
              "\n",
              "  <style>\n",
              "    .colab-df-container {\n",
              "      display:flex;\n",
              "      gap: 12px;\n",
              "    }\n",
              "\n",
              "    .colab-df-convert {\n",
              "      background-color: #E8F0FE;\n",
              "      border: none;\n",
              "      border-radius: 50%;\n",
              "      cursor: pointer;\n",
              "      display: none;\n",
              "      fill: #1967D2;\n",
              "      height: 32px;\n",
              "      padding: 0 0 0 0;\n",
              "      width: 32px;\n",
              "    }\n",
              "\n",
              "    .colab-df-convert:hover {\n",
              "      background-color: #E2EBFA;\n",
              "      box-shadow: 0px 1px 2px rgba(60, 64, 67, 0.3), 0px 1px 3px 1px rgba(60, 64, 67, 0.15);\n",
              "      fill: #174EA6;\n",
              "    }\n",
              "\n",
              "    .colab-df-buttons div {\n",
              "      margin-bottom: 4px;\n",
              "    }\n",
              "\n",
              "    [theme=dark] .colab-df-convert {\n",
              "      background-color: #3B4455;\n",
              "      fill: #D2E3FC;\n",
              "    }\n",
              "\n",
              "    [theme=dark] .colab-df-convert:hover {\n",
              "      background-color: #434B5C;\n",
              "      box-shadow: 0px 1px 3px 1px rgba(0, 0, 0, 0.15);\n",
              "      filter: drop-shadow(0px 1px 2px rgba(0, 0, 0, 0.3));\n",
              "      fill: #FFFFFF;\n",
              "    }\n",
              "  </style>\n",
              "\n",
              "    <script>\n",
              "      const buttonEl =\n",
              "        document.querySelector('#df-eda986a6-3478-41a5-a8ed-2e465ac6e972 button.colab-df-convert');\n",
              "      buttonEl.style.display =\n",
              "        google.colab.kernel.accessAllowed ? 'block' : 'none';\n",
              "\n",
              "      async function convertToInteractive(key) {\n",
              "        const element = document.querySelector('#df-eda986a6-3478-41a5-a8ed-2e465ac6e972');\n",
              "        const dataTable =\n",
              "          await google.colab.kernel.invokeFunction('convertToInteractive',\n",
              "                                                    [key], {});\n",
              "        if (!dataTable) return;\n",
              "\n",
              "        const docLinkHtml = 'Like what you see? Visit the ' +\n",
              "          '<a target=\"_blank\" href=https://colab.research.google.com/notebooks/data_table.ipynb>data table notebook</a>'\n",
              "          + ' to learn more about interactive tables.';\n",
              "        element.innerHTML = '';\n",
              "        dataTable['output_type'] = 'display_data';\n",
              "        await google.colab.output.renderOutput(dataTable, element);\n",
              "        const docLink = document.createElement('div');\n",
              "        docLink.innerHTML = docLinkHtml;\n",
              "        element.appendChild(docLink);\n",
              "      }\n",
              "    </script>\n",
              "  </div>\n",
              "\n",
              "\n",
              "<div id=\"df-947733a8-23c5-490b-8f2e-63efb110bc7b\">\n",
              "  <button class=\"colab-df-quickchart\" onclick=\"quickchart('df-947733a8-23c5-490b-8f2e-63efb110bc7b')\"\n",
              "            title=\"Suggest charts\"\n",
              "            style=\"display:none;\">\n",
              "\n",
              "<svg xmlns=\"http://www.w3.org/2000/svg\" height=\"24px\"viewBox=\"0 0 24 24\"\n",
              "     width=\"24px\">\n",
              "    <g>\n",
              "        <path d=\"M19 3H5c-1.1 0-2 .9-2 2v14c0 1.1.9 2 2 2h14c1.1 0 2-.9 2-2V5c0-1.1-.9-2-2-2zM9 17H7v-7h2v7zm4 0h-2V7h2v10zm4 0h-2v-4h2v4z\"/>\n",
              "    </g>\n",
              "</svg>\n",
              "  </button>\n",
              "\n",
              "<style>\n",
              "  .colab-df-quickchart {\n",
              "      --bg-color: #E8F0FE;\n",
              "      --fill-color: #1967D2;\n",
              "      --hover-bg-color: #E2EBFA;\n",
              "      --hover-fill-color: #174EA6;\n",
              "      --disabled-fill-color: #AAA;\n",
              "      --disabled-bg-color: #DDD;\n",
              "  }\n",
              "\n",
              "  [theme=dark] .colab-df-quickchart {\n",
              "      --bg-color: #3B4455;\n",
              "      --fill-color: #D2E3FC;\n",
              "      --hover-bg-color: #434B5C;\n",
              "      --hover-fill-color: #FFFFFF;\n",
              "      --disabled-bg-color: #3B4455;\n",
              "      --disabled-fill-color: #666;\n",
              "  }\n",
              "\n",
              "  .colab-df-quickchart {\n",
              "    background-color: var(--bg-color);\n",
              "    border: none;\n",
              "    border-radius: 50%;\n",
              "    cursor: pointer;\n",
              "    display: none;\n",
              "    fill: var(--fill-color);\n",
              "    height: 32px;\n",
              "    padding: 0;\n",
              "    width: 32px;\n",
              "  }\n",
              "\n",
              "  .colab-df-quickchart:hover {\n",
              "    background-color: var(--hover-bg-color);\n",
              "    box-shadow: 0 1px 2px rgba(60, 64, 67, 0.3), 0 1px 3px 1px rgba(60, 64, 67, 0.15);\n",
              "    fill: var(--button-hover-fill-color);\n",
              "  }\n",
              "\n",
              "  .colab-df-quickchart-complete:disabled,\n",
              "  .colab-df-quickchart-complete:disabled:hover {\n",
              "    background-color: var(--disabled-bg-color);\n",
              "    fill: var(--disabled-fill-color);\n",
              "    box-shadow: none;\n",
              "  }\n",
              "\n",
              "  .colab-df-spinner {\n",
              "    border: 2px solid var(--fill-color);\n",
              "    border-color: transparent;\n",
              "    border-bottom-color: var(--fill-color);\n",
              "    animation:\n",
              "      spin 1s steps(1) infinite;\n",
              "  }\n",
              "\n",
              "  @keyframes spin {\n",
              "    0% {\n",
              "      border-color: transparent;\n",
              "      border-bottom-color: var(--fill-color);\n",
              "      border-left-color: var(--fill-color);\n",
              "    }\n",
              "    20% {\n",
              "      border-color: transparent;\n",
              "      border-left-color: var(--fill-color);\n",
              "      border-top-color: var(--fill-color);\n",
              "    }\n",
              "    30% {\n",
              "      border-color: transparent;\n",
              "      border-left-color: var(--fill-color);\n",
              "      border-top-color: var(--fill-color);\n",
              "      border-right-color: var(--fill-color);\n",
              "    }\n",
              "    40% {\n",
              "      border-color: transparent;\n",
              "      border-right-color: var(--fill-color);\n",
              "      border-top-color: var(--fill-color);\n",
              "    }\n",
              "    60% {\n",
              "      border-color: transparent;\n",
              "      border-right-color: var(--fill-color);\n",
              "    }\n",
              "    80% {\n",
              "      border-color: transparent;\n",
              "      border-right-color: var(--fill-color);\n",
              "      border-bottom-color: var(--fill-color);\n",
              "    }\n",
              "    90% {\n",
              "      border-color: transparent;\n",
              "      border-bottom-color: var(--fill-color);\n",
              "    }\n",
              "  }\n",
              "</style>\n",
              "\n",
              "  <script>\n",
              "    async function quickchart(key) {\n",
              "      const quickchartButtonEl =\n",
              "        document.querySelector('#' + key + ' button');\n",
              "      quickchartButtonEl.disabled = true;  // To prevent multiple clicks.\n",
              "      quickchartButtonEl.classList.add('colab-df-spinner');\n",
              "      try {\n",
              "        const charts = await google.colab.kernel.invokeFunction(\n",
              "            'suggestCharts', [key], {});\n",
              "      } catch (error) {\n",
              "        console.error('Error during call to suggestCharts:', error);\n",
              "      }\n",
              "      quickchartButtonEl.classList.remove('colab-df-spinner');\n",
              "      quickchartButtonEl.classList.add('colab-df-quickchart-complete');\n",
              "    }\n",
              "    (() => {\n",
              "      let quickchartButtonEl =\n",
              "        document.querySelector('#df-947733a8-23c5-490b-8f2e-63efb110bc7b button');\n",
              "      quickchartButtonEl.style.display =\n",
              "        google.colab.kernel.accessAllowed ? 'block' : 'none';\n",
              "    })();\n",
              "  </script>\n",
              "</div>\n",
              "\n",
              "  <div id=\"id_7828dc4a-d581-4f85-b7b1-d1f16aafd56e\">\n",
              "    <style>\n",
              "      .colab-df-generate {\n",
              "        background-color: #E8F0FE;\n",
              "        border: none;\n",
              "        border-radius: 50%;\n",
              "        cursor: pointer;\n",
              "        display: none;\n",
              "        fill: #1967D2;\n",
              "        height: 32px;\n",
              "        padding: 0 0 0 0;\n",
              "        width: 32px;\n",
              "      }\n",
              "\n",
              "      .colab-df-generate:hover {\n",
              "        background-color: #E2EBFA;\n",
              "        box-shadow: 0px 1px 2px rgba(60, 64, 67, 0.3), 0px 1px 3px 1px rgba(60, 64, 67, 0.15);\n",
              "        fill: #174EA6;\n",
              "      }\n",
              "\n",
              "      [theme=dark] .colab-df-generate {\n",
              "        background-color: #3B4455;\n",
              "        fill: #D2E3FC;\n",
              "      }\n",
              "\n",
              "      [theme=dark] .colab-df-generate:hover {\n",
              "        background-color: #434B5C;\n",
              "        box-shadow: 0px 1px 3px 1px rgba(0, 0, 0, 0.15);\n",
              "        filter: drop-shadow(0px 1px 2px rgba(0, 0, 0, 0.3));\n",
              "        fill: #FFFFFF;\n",
              "      }\n",
              "    </style>\n",
              "    <button class=\"colab-df-generate\" onclick=\"generateWithVariable('combined_table')\"\n",
              "            title=\"Generate code using this dataframe.\"\n",
              "            style=\"display:none;\">\n",
              "\n",
              "  <svg xmlns=\"http://www.w3.org/2000/svg\" height=\"24px\"viewBox=\"0 0 24 24\"\n",
              "       width=\"24px\">\n",
              "    <path d=\"M7,19H8.4L18.45,9,17,7.55,7,17.6ZM5,21V16.75L18.45,3.32a2,2,0,0,1,2.83,0l1.4,1.43a1.91,1.91,0,0,1,.58,1.4,1.91,1.91,0,0,1-.58,1.4L9.25,21ZM18.45,9,17,7.55Zm-12,3A5.31,5.31,0,0,0,4.9,8.1,5.31,5.31,0,0,0,1,6.5,5.31,5.31,0,0,0,4.9,4.9,5.31,5.31,0,0,0,6.5,1,5.31,5.31,0,0,0,8.1,4.9,5.31,5.31,0,0,0,12,6.5,5.46,5.46,0,0,0,6.5,12Z\"/>\n",
              "  </svg>\n",
              "    </button>\n",
              "    <script>\n",
              "      (() => {\n",
              "      const buttonEl =\n",
              "        document.querySelector('#id_7828dc4a-d581-4f85-b7b1-d1f16aafd56e button.colab-df-generate');\n",
              "      buttonEl.style.display =\n",
              "        google.colab.kernel.accessAllowed ? 'block' : 'none';\n",
              "\n",
              "      buttonEl.onclick = () => {\n",
              "        google.colab.notebook.generateWithVariable('combined_table');\n",
              "      }\n",
              "      })();\n",
              "    </script>\n",
              "  </div>\n",
              "\n",
              "    </div>\n",
              "  </div>\n"
            ],
            "application/vnd.google.colaboratory.intrinsic+json": {
              "type": "dataframe",
              "variable_name": "combined_table",
              "summary": "{\n  \"name\": \"combined_table\",\n  \"rows\": 965,\n  \"fields\": [\n    {\n      \"column\": \"id\",\n      \"properties\": {\n        \"dtype\": \"string\",\n        \"num_unique_values\": 965,\n        \"samples\": [\n          \"tFVvupXoRoM\",\n          \"Q1LJotkUbUY\",\n          \"9dx9IhSqwC4\"\n        ],\n        \"semantic_type\": \"\",\n        \"description\": \"\"\n      }\n    },\n    {\n      \"column\": \"caption_truth\",\n      \"properties\": {\n        \"dtype\": \"string\",\n        \"num_unique_values\": 965,\n        \"samples\": [\n          \"The low quality recording features a groovy bass guitar played over a muffled, barely audible, playback instrumental. It sounds groovy and funky, even though you can hear that the player is practicing.\",\n          \"Strings are playing a mid range drone sound along with a guitar playing a melody with reverb on it. A transverse flute is playing the main melody. This song may be playing in a lush adventure nature movie.\",\n          \"This audio contains two trombone players playing a warm melody. One in a higher key the other in a lower register. This song may be playing live listening to a performance in a theater.\"\n        ],\n        \"semantic_type\": \"\",\n        \"description\": \"\"\n      }\n    },\n    {\n      \"column\": \"objective_words_truth\",\n      \"properties\": {\n        \"dtype\": \"object\",\n        \"semantic_type\": \"\",\n        \"description\": \"\"\n      }\n    },\n    {\n      \"column\": \"subjective_words_truth\",\n      \"properties\": {\n        \"dtype\": \"object\",\n        \"semantic_type\": \"\",\n        \"description\": \"\"\n      }\n    },\n    {\n      \"column\": \"caption_generated\",\n      \"properties\": {\n        \"dtype\": \"string\",\n        \"num_unique_values\": 960,\n        \"samples\": [\n          \"The low quality recording features a live performance of a traditional song and it contains wooden percussion, addictive accordion melody and a flute melody playing over it. It is a bit noisy, in mono and it sounds passionate and energetic.\",\n          \"The low quality recording features an ambient song that consists of an aggressive electric guitar melody going back and forth in pitch. There are some loud tapping noises. Overall it sounds passionate and intense.\",\n          \"The low quality recording features a cover of a children's song and it consists of a sweet girl vocal singing over acoustic rhythm guitar and groovy bass. The recording is in mono, noisy, muffled and it sounds fun and happy, like something kids would listen to.\"\n        ],\n        \"semantic_type\": \"\",\n        \"description\": \"\"\n      }\n    },\n    {\n      \"column\": \"objective_words_generated\",\n      \"properties\": {\n        \"dtype\": \"object\",\n        \"semantic_type\": \"\",\n        \"description\": \"\"\n      }\n    },\n    {\n      \"column\": \"subjective_words_generated\",\n      \"properties\": {\n        \"dtype\": \"object\",\n        \"semantic_type\": \"\",\n        \"description\": \"\"\n      }\n    }\n  ]\n}"
            }
          },
          "metadata": {},
          "execution_count": 105
        }
      ]
    },
    {
      "cell_type": "code",
      "source": [
        "# prompt: for the given table, check the number of overlapping words between objective_words_truth and objective_words_generated. do the same for subjective\n",
        "\n",
        "def overlapping_words(df):\n",
        "    objective_overlap = []\n",
        "    subjective_overlap = []\n",
        "\n",
        "    for index in range(len(df)):\n",
        "        objective_truth = set(df.iloc[index][\"objective_words_truth\"])\n",
        "        objective_generated = set(df.iloc[index][\"objective_words_generated\"])\n",
        "        objective_overlap.append(len(objective_truth.intersection(objective_generated)))\n",
        "\n",
        "        subjective_truth = set(df.iloc[index][\"subjective_words_truth\"])\n",
        "        subjective_generated = set(df.iloc[index][\"subjective_words_generated\"])\n",
        "        subjective_overlap.append(len(subjective_truth.intersection(subjective_generated)))\n",
        "\n",
        "    return objective_overlap, subjective_overlap\n",
        "\n",
        "objective_overlap, subjective_overlap = overlapping_words(combined_table)\n",
        "\n",
        "print(\"Average overlapping objective words:\", np.mean(objective_overlap))\n",
        "print(\"Average overlapping subjective words:\", np.mean(subjective_overlap))\n"
      ],
      "metadata": {
        "colab": {
          "base_uri": "https://localhost:8080/"
        },
        "id": "kI1HXooGrzGB",
        "outputId": "71f2719f-eebf-44fc-e2d5-ddb4413f7d4a"
      },
      "execution_count": null,
      "outputs": [
        {
          "output_type": "stream",
          "name": "stdout",
          "text": [
            "Average overlapping objective words: 0.20518134715025907\n",
            "Average overlapping subjective words: 0.07046632124352331\n"
          ]
        }
      ]
    },
    {
      "cell_type": "code",
      "source": [],
      "metadata": {
        "id": "DZcH1bLUswmF"
      },
      "execution_count": null,
      "outputs": []
    }
  ]
}